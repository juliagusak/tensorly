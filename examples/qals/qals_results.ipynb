{
 "cells": [
  {
   "cell_type": "raw",
   "metadata": {},
   "source": [
    "import os\n",
    "os.environ[\"CUDA_DEVICE_ORDER\"]=\"PCI_BUS_ID\"  \n",
    "os.environ[\"CUDA_VISIBLE_DEVICES\"]=\"2,6\""
   ]
  },
  {
   "cell_type": "code",
   "execution_count": 7,
   "metadata": {
    "scrolled": true
   },
   "outputs": [],
   "source": [
    "import numpy as np\n",
    "from collections import defaultdict\n",
    "import os\n",
    "import logging\n",
    "import sys\n",
    "import torch"
   ]
  },
  {
   "cell_type": "code",
   "execution_count": 5,
   "metadata": {},
   "outputs": [],
   "source": [
    "N_ITER_MAX = 10000\n",
    "RANDOM_INIT_STARTS = 10\n",
    "NRUNS = 3\n",
    "SHAPES = [(16, 16, 9), (32, 32, 9), (64, 64, 9),\\\n",
    "          (128, 128, 9), (256, 256, 9), (512, 512, 9)][:3]"
   ]
  },
  {
   "cell_type": "markdown",
   "metadata": {},
   "source": [
    "### Load saved results"
   ]
  },
  {
   "cell_type": "code",
   "execution_count": 19,
   "metadata": {},
   "outputs": [],
   "source": [
    "## To load result\n",
    "save_dir = '/workspace/raid/data/jgusak/tensorly/qals_test_results'\n",
    "result = np.load('{}/{}.npy'.format(save_dir, (128, 128, 9)), allow_pickle = True).item()"
   ]
  },
  {
   "cell_type": "code",
   "execution_count": 20,
   "metadata": {},
   "outputs": [
    {
     "name": "stdout",
     "output_type": "stream",
     "text": [
      "\n",
      "rank = 64\n",
      " run = 0, min of 11 random starts\n",
      " als_error: 0.0012381207197904587, als_quantized_error: 56.2545280456543, qals_error: 51.279788970947266\n",
      " run = 1, min of 11 random starts\n",
      " als_error: 0.0011546059977263212, als_quantized_error: 55.94208526611328, qals_error: 45.909976959228516\n",
      " run = 2, min of 11 random starts\n",
      " als_error: 0.0010964859975501895, als_quantized_error: 53.695064544677734, qals_error: 47.18354797363281\n",
      "\n",
      "rank = 170\n",
      " run = 0, min of 11 random starts\n",
      " als_error: 0.0026366529054939747, als_quantized_error: 109.93075561523438, qals_error: 75.75086975097656\n",
      " run = 1, min of 11 random starts\n",
      " als_error: 0.0027558954898267984, als_quantized_error: 117.90447235107422, qals_error: 79.5983657836914\n",
      " run = 2, min of 11 random starts\n",
      " als_error: 0.002692823065444827, als_quantized_error: 95.88391876220703, qals_error: 78.72422790527344\n",
      "\n",
      "rank = 42\n",
      " run = 0, min of 11 random starts\n",
      " als_error: 0.0008531371131539345, als_quantized_error: 48.93348693847656, qals_error: 38.03476333618164\n",
      " run = 1, min of 11 random starts\n",
      " als_error: 0.0007682644063606858, als_quantized_error: 45.89031219482422, qals_error: 30.59958839416504\n",
      " run = 2, min of 11 random starts\n",
      " als_error: 0.0008520413539372385, als_quantized_error: 44.6282844543457, qals_error: 37.48931121826172\n",
      "\n",
      "rank = 11\n",
      " run = 0, min of 11 random starts\n",
      " als_error: 0.00032036734046414495, als_quantized_error: 25.059757232666016, qals_error: 13.834656715393066\n",
      " run = 1, min of 11 random starts\n",
      " als_error: 0.0003208362322766334, als_quantized_error: 28.00718116760254, qals_error: 15.898055076599121\n",
      " run = 2, min of 11 random starts\n",
      " als_error: 0.00029963598353788257, als_quantized_error: 20.732851028442383, qals_error: 43.30179214477539\n"
     ]
    }
   ],
   "source": [
    "random_init_starts = RANDOM_INIT_STARTS\n",
    "\n",
    "for rank, res in result.items():\n",
    "    print('\\nrank = {}'.format(rank))  \n",
    "    for run, rec_errors in res.items():\n",
    "    \n",
    "        print(' run = {}, min of {} random starts'.format(run, random_init_starts+1))\n",
    "        print(' als_error: {}, als_quantized_error: {}, qals_error: {}'.format(\n",
    "            min(rec_errors['als_factors']),\\\n",
    "            min(rec_errors['als_factors_quantized']),\\\n",
    "            min(rec_errors['qals_factors'])))\n",
    "         \n"
   ]
  },
  {
   "cell_type": "code",
   "execution_count": null,
   "metadata": {},
   "outputs": [],
   "source": []
  }
 ],
 "metadata": {
  "kernelspec": {
   "display_name": "Python 3",
   "language": "python",
   "name": "python3"
  },
  "language_info": {
   "codemirror_mode": {
    "name": "ipython",
    "version": 3
   },
   "file_extension": ".py",
   "mimetype": "text/x-python",
   "name": "python",
   "nbconvert_exporter": "python",
   "pygments_lexer": "ipython3",
   "version": "3.6.8"
  }
 },
 "nbformat": 4,
 "nbformat_minor": 2
}
