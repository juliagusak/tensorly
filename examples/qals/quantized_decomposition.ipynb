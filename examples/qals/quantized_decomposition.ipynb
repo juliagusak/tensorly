{
 "cells": [
  {
   "cell_type": "code",
   "execution_count": 1,
   "metadata": {},
   "outputs": [],
   "source": [
    "import os\n",
    "os.environ[\"CUDA_DEVICE_ORDER\"]=\"PCI_BUS_ID\"  \n",
    "os.environ[\"CUDA_VISIBLE_DEVICES\"]=\"2\""
   ]
  },
  {
   "cell_type": "code",
   "execution_count": 2,
   "metadata": {
    "scrolled": true
   },
   "outputs": [],
   "source": [
    "import tensorly as tl\n",
    "from tensorly.decomposition import parafac, quantized_parafac\n",
    "from tensorly.kruskal_tensor import kruskal_to_tensor, KruskalTensor\n",
    "from tensorly.base import unfold\n",
    "from tensorly.quantization import quantize_qint\n",
    "\n",
    "import torch\n",
    "tl.set_backend('pytorch')\n",
    "\n",
    "import logging\n",
    "import sys\n",
    "\n",
    "# logging.basicConfig(format='%(asctime)s | %(levelname)s : %(message)s',\n",
    "#                      level=logging.INFO, filename = 'logs.txt')\n",
    "# logging.basicConfig(format='%(asctime)s | %(levelname)s : %(message)s',\n",
    "#                      level=logging.INFO, stream=sys.stdout)"
   ]
  },
  {
   "cell_type": "markdown",
   "metadata": {},
   "source": [
    "# Example 1. Tensor quantization\n",
    "We use PyTorch build-in tools to perform quantization.\n",
    "\n",
    "Quantization scheme can be either affine or symmetric.\n",
    "\n",
    "Scale and zero_point values to perform quantization are computed either per channel or per tensor (i.e. we get either vectors or scalars).\n",
    "\n",
    "Thus, there are 4 types of quantization scheme:\n",
    "\n",
    "    ``torch.per_tensor_affine``\n",
    "    ``torch.per_tensor_symmetric``\n",
    "    ``torch.per_channel_affine``\n",
    "    ``torch.per_channel_symmetric``"
   ]
  },
  {
   "cell_type": "markdown",
   "metadata": {},
   "source": [
    "##### Generate a random tensor"
   ]
  },
  {
   "cell_type": "code",
   "execution_count": 3,
   "metadata": {},
   "outputs": [],
   "source": [
    "t = torch.randn(256, 256, 9)\n",
    "logging.info('||float_tensor|| = {}'.format(tl.norm(t)))\n",
    "\n",
    "dtype = torch.qint8"
   ]
  },
  {
   "cell_type": "markdown",
   "metadata": {},
   "source": [
    "##### Per channel  quantization"
   ]
  },
  {
   "cell_type": "code",
   "execution_count": 4,
   "metadata": {},
   "outputs": [
    {
     "name": "stdout",
     "output_type": "stream",
     "text": [
      "\n",
      "Per channel quantization, dtype: torch.qint8, qscheme: torch.per_channel_affine\n",
      "Per dim 0, ||float_tensor - quant_tensor|| = 6.027401924133301\n",
      "Per dim 1, ||float_tensor - quant_tensor|| = 6.024443626403809\n",
      "Per dim 2, ||float_tensor - quant_tensor|| = 7.571700572967529\n",
      "\n",
      "Per channel quantization, dtype: torch.qint8, qscheme: torch.per_channel_symmetric\n",
      "Per dim 0, ||float_tensor - quant_tensor|| = 6.364619255065918\n",
      "Per dim 1, ||float_tensor - quant_tensor|| = 6.355539321899414\n",
      "Per dim 2, ||float_tensor - quant_tensor|| = 7.846454620361328\n"
     ]
    }
   ],
   "source": [
    "for qscheme in [torch.per_channel_affine, torch.per_channel_symmetric]:\n",
    "    print(\"\\nPer channel quantization, dtype: {}, qscheme: {}\".format(dtype, qscheme))\n",
    "    \n",
    "    for dim in range(len(t.shape)):\n",
    "        qt, scale, zero_point = quantize_qint(t,\\\n",
    "                                              dtype,\\\n",
    "                                              qscheme,\\\n",
    "                                              dim = dim,\\\n",
    "                                              return_scale_zeropoint=True)\n",
    "\n",
    "        print('Per dim {}, ||float_tensor - quant_tensor|| = {}'.format(dim, tl.norm(t - qt)))"
   ]
  },
  {
   "cell_type": "markdown",
   "metadata": {},
   "source": [
    "##### Per tensor quantization"
   ]
  },
  {
   "cell_type": "code",
   "execution_count": 5,
   "metadata": {},
   "outputs": [
    {
     "name": "stdout",
     "output_type": "stream",
     "text": [
      "\n",
      "Per tensor quantization, dtype: torch.qint8, qscheme: torch.per_tensor_affine\n",
      "Per tensor, ||float_tensor - quant_tensor|| = 8.609950065612793\n",
      "\n",
      "Per tensor quantization, dtype: torch.qint8, qscheme: torch.per_tensor_symmetric\n",
      "Per tensor, ||float_tensor - quant_tensor|| = 9.130134582519531\n"
     ]
    }
   ],
   "source": [
    "for qscheme in [torch.per_tensor_affine, torch.per_tensor_symmetric]:\n",
    "    print(\"\\nPer tensor quantization, dtype: {}, qscheme: {}\".format(dtype, qscheme))\n",
    "\n",
    "    \n",
    "    qt, scale, zero_point = quantize_qint(t,\\\n",
    "                                          dtype,\\\n",
    "                                          qscheme,\\\n",
    "                                          dim = dim,\\\n",
    "                                          return_scale_zeropoint=True)\n",
    "    print('Per tensor, ||float_tensor - quant_tensor|| = {}'.format(tl.norm(t - qt)))"
   ]
  },
  {
   "cell_type": "markdown",
   "metadata": {},
   "source": [
    "# Example 2. Quantization of a tensor in Kruskal format:\n",
    "    a) via quantization of the corresponding full tensor\n",
    "    b) via quantization of decomposition factors."
   ]
  },
  {
   "cell_type": "markdown",
   "metadata": {},
   "source": [
    "##### Generate tensor "
   ]
  },
  {
   "cell_type": "code",
   "execution_count": 6,
   "metadata": {},
   "outputs": [
    {
     "name": "stdout",
     "output_type": "stream",
     "text": [
      "||float_factors||: 756.0740356445312\n"
     ]
    }
   ],
   "source": [
    "rank = 16\n",
    "shape = (64, 64, 9)\n",
    "\n",
    "factors = [torch.randn((i, rank)) for i in shape] \n",
    "weights = torch.ones(rank)\n",
    "\n",
    "# tensor in Kruscal format\n",
    "krt = KruskalTensor((weights, factors))\n",
    "\n",
    "# corresponding tensor in full format\n",
    "t = kruskal_to_tensor(krt)\n",
    "\n",
    "tnorm = tl.norm(t)\n",
    "print('||float_factors||: {}'.format(tnorm))"
   ]
  },
  {
   "cell_type": "markdown",
   "metadata": {},
   "source": [
    "##### Choose quantization scheme"
   ]
  },
  {
   "cell_type": "code",
   "execution_count": 7,
   "metadata": {},
   "outputs": [],
   "source": [
    "dtype = torch.qint8\n",
    "\n",
    "## Per tensor quantization\n",
    "qscheme, dim = torch.per_tensor_affine, None\n",
    "\n",
    "## Uncomment for per channel quantization\n",
    "# qscheme, dim = torch.per_channel_affine, 0"
   ]
  },
  {
   "cell_type": "markdown",
   "metadata": {},
   "source": [
    "##### a) Quantize the full tensor"
   ]
  },
  {
   "cell_type": "code",
   "execution_count": 8,
   "metadata": {},
   "outputs": [
    {
     "name": "stdout",
     "output_type": "stream",
     "text": [
      "||float_factors - float_factors_quantized|| = 10.60978889465332\n"
     ]
    }
   ],
   "source": [
    "t_quant = quantize_qint(t, dtype, qscheme, dim = dim)\n",
    "print('||float_factors - float_factors_quantized|| = {}'.format(tl.norm(t - t_quant)))"
   ]
  },
  {
   "cell_type": "markdown",
   "metadata": {},
   "source": [
    "##### b) Quantize several factors"
   ]
  },
  {
   "cell_type": "code",
   "execution_count": 9,
   "metadata": {},
   "outputs": [
    {
     "name": "stdout",
     "output_type": "stream",
     "text": [
      "\n",
      "[1/3] factors are quantized\n",
      "||quant_factors - float_factors|| = 5.461402893066406\n",
      "\n",
      "[2/3] factors are quantized\n",
      "||quant_factors - float_factors|| = 8.082331657409668\n",
      "\n",
      "[3/3] factors are quantized\n",
      "||quant_factors - float_factors|| = 10.411945343017578\n"
     ]
    }
   ],
   "source": [
    "num_factors = len(factors)\n",
    "for num_quant_factors in range(1, num_factors + 1):\n",
    "    \n",
    "    qfactors = [quantize_qint(factors[i], dtype, qscheme, dim = dim)\\\n",
    "                for i in range(num_quant_factors)\\\n",
    "               ] + [factors[i] for i in range(num_quant_factors, num_factors)]\n",
    "\n",
    "    qkrt = KruskalTensor((weights, qfactors))\n",
    "    qt = kruskal_to_tensor(qkrt)\n",
    "    print('\\n[{}/{}] factors are quantized'.format(num_quant_factors, num_factors))\n",
    "    print('||quant_factors - float_factors|| = {}'.format(tl.norm(qt - t)))\n",
    "#     print('||quant_factors - float_factors_quantized|| = {}'.format(tl.norm(qt - t_quant)))\n",
    "\n",
    "#     qt_quant = quantize_qint(qt, dtype, qscheme, dim = dim)\n",
    "#     print('\\nquant_factors_quantized - t_quant_factors: {}'.format(tl.norm(qt_quant - qt)/tnorm))\n",
    "    \n",
    "#     print('||quant_factors_quantized - float_factors|| = {}'.format(tl.norm(qt_quant - t)/tnorm))\n",
    "#     print('||quant_factors_quantized - float_factors_quantized|| = {}'.format(tl.norm(qt_quant - t_quant)/tnorm))\n"
   ]
  },
  {
   "cell_type": "code",
   "execution_count": 10,
   "metadata": {},
   "outputs": [
    {
     "data": {
      "text/plain": [
       "(8.0, 5.333333333333333, 4.0)"
      ]
     },
     "execution_count": 10,
     "metadata": {},
     "output_type": "execute_result"
    }
   ],
   "source": [
    "import numpy as np\n",
    "16/2, 16/3, np.sqrt(16)"
   ]
  },
  {
   "cell_type": "markdown",
   "metadata": {},
   "source": [
    "# Example 3. Quantized ALS\n",
    "Compare standard ALS algorithm for finding  CP decomposition with its quantized version, when at the end of each ALS step approximated factor is quantized."
   ]
  },
  {
   "cell_type": "markdown",
   "metadata": {},
   "source": [
    "##### Generate tensor"
   ]
  },
  {
   "cell_type": "code",
   "execution_count": 18,
   "metadata": {},
   "outputs": [
    {
     "name": "stdout",
     "output_type": "stream",
     "text": [
      "||float_factors||: 756.0740356445312\n"
     ]
    }
   ],
   "source": [
    "rank = 100\n",
    "shape = (128, 128, 9)\n",
    "\n",
    "factors = [torch.randn((i, rank)) for i in shape] \n",
    "weights = torch.ones(rank)\n",
    "\n",
    "# tensor in Kruscal format\n",
    "krt = KruskalTensor((weights, factors))\n",
    "\n",
    "# corresponding tensor in full format\n",
    "t_original = kruskal_to_tensor(krt)\n",
    "t_original\n",
    "\n",
    "tnorm = tl.norm(t)\n",
    "print('||float_factors||: {}'.format(tnorm))"
   ]
  },
  {
   "cell_type": "markdown",
   "metadata": {},
   "source": [
    "##### Find rank-1 float approximation"
   ]
  },
  {
   "cell_type": "code",
   "execution_count": 37,
   "metadata": {},
   "outputs": [],
   "source": [
    "r_float = 0\n",
    "stop_criterion = 'rec_error_decrease'\n",
    "qstop_criterion = 'rec_error_decrease'\n",
    "init = 'svd'\n",
    "random_state = 1110\n",
    "tol = 1e-18\n",
    "n_iter_max = 50000\n",
    "normalize_factors = True\n",
    "device = 'cuda'"
   ]
  },
  {
   "cell_type": "code",
   "execution_count": 38,
   "metadata": {},
   "outputs": [],
   "source": [
    "t = t_original.to(device)\n",
    "r = r_float\n",
    "if r > 0:\n",
    "    out = parafac(t, r,\\\n",
    "                  n_iter_max=n_iter_max,\\\n",
    "                  init=init,\\\n",
    "                  svd='numpy_svd',\\\n",
    "                  normalize_factors=normalize_factors,\n",
    "                  orthogonalise=False,\\\n",
    "                  tol=tol, random_state=random_state,\\\n",
    "                  verbose=0,\\\n",
    "                  return_errors=False,\\\n",
    "                  non_negative=False,\\\n",
    "                  mask=None,\\\n",
    "                  stop_criterion = stop_criterion)\n",
    "\n",
    "    t_approx = kruskal_to_tensor(out)\n",
    "    print(tl.norm(t - t_approx)) \n",
    "else:\n",
    "    t_approx = 0\n",
    "    \n",
    "t_residual = t - t_approx"
   ]
  },
  {
   "cell_type": "markdown",
   "metadata": {},
   "source": [
    "##### Find an approximation using ALS"
   ]
  },
  {
   "cell_type": "code",
   "execution_count": 39,
   "metadata": {},
   "outputs": [
    {
     "name": "stdout",
     "output_type": "stream",
     "text": [
      "tensor(0.0015, device='cuda:0')\n",
      "tensor(0.0015, device='cuda:0')\n"
     ]
    }
   ],
   "source": [
    "t = t_residual.to(device)\n",
    "r = rank - r_float\n",
    "out = parafac(t, r,\\\n",
    "              n_iter_max=n_iter_max,\\\n",
    "              init=init,\\\n",
    "              svd='numpy_svd',\\\n",
    "              normalize_factors=normalize_factors,\\\n",
    "              orthogonalise=False,\\\n",
    "              tol=tol,\\\n",
    "              random_state=random_state,\\\n",
    "              verbose=0,\\\n",
    "              return_errors=False,\\\n",
    "              non_negative=False,\\\n",
    "              mask=None,\n",
    "              stop_criterion = stop_criterion)\n",
    "\n",
    "t_residual_approx_als = kruskal_to_tensor(out) \n",
    "print(tl.norm(t - t_residual_approx_als))  \n",
    "print(tl.norm(t - t_approx - t_residual_approx_als))"
   ]
  },
  {
   "cell_type": "code",
   "execution_count": 40,
   "metadata": {},
   "outputs": [
    {
     "data": {
      "text/plain": [
       "tensor(3884.5942, device='cuda:0')"
      ]
     },
     "execution_count": 40,
     "metadata": {},
     "output_type": "execute_result"
    }
   ],
   "source": [
    "tl.norm(t)"
   ]
  },
  {
   "cell_type": "markdown",
   "metadata": {},
   "source": [
    "##### Find an approximation using quantized ALS"
   ]
  },
  {
   "cell_type": "code",
   "execution_count": 75,
   "metadata": {},
   "outputs": [],
   "source": [
    "dtype = torch.qint8\n",
    "\n",
    "## Per tensor quantization\n",
    "qscheme, dim = torch.per_tensor_affine, None\n",
    "\n",
    "## Uncomment for per channel quantization\n",
    "# qscheme, dim = torch.per_channel_affine, 0"
   ]
  },
  {
   "cell_type": "code",
   "execution_count": 34,
   "metadata": {},
   "outputs": [
    {
     "name": "stdout",
     "output_type": "stream",
     "text": [
      "reconstruction error=0.8406111001968384\n",
      "iteration 1,  reconstraction error: 0.6533171534538269, decrease = 0.18729394674301147, unnormalized = 2537.8720703125\n",
      "iteration 2,  reconstraction error: 0.564849317073822, decrease = 0.08846783638000488, unnormalized = 2194.21044921875\n",
      "iteration 3,  reconstraction error: 0.5103333592414856, decrease = 0.054515957832336426, unnormalized = 1982.43798828125\n",
      "iteration 4,  reconstraction error: 0.46816015243530273, decrease = 0.04217320680618286, unnormalized = 1818.6123046875\n",
      "iteration 5,  reconstraction error: 0.43217477202415466, decrease = 0.03598538041114807, unnormalized = 1678.82373046875\n",
      "iteration 6,  reconstraction error: 0.39820757508277893, decrease = 0.03396719694137573, unnormalized = 1546.8748779296875\n",
      "iteration 7,  reconstraction error: 0.3651961386203766, decrease = 0.033011436462402344, unnormalized = 1418.638916015625\n",
      "iteration 8,  reconstraction error: 0.3344716429710388, decrease = 0.03072449564933777, unnormalized = 1299.28662109375\n",
      "iteration 9,  reconstraction error: 0.30632898211479187, decrease = 0.028142660856246948, unnormalized = 1189.9638671875\n",
      "iteration 10,  reconstraction error: 0.27997922897338867, decrease = 0.026349753141403198, unnormalized = 1087.605712890625\n",
      "iteration 11,  reconstraction error: 0.25510478019714355, decrease = 0.024874448776245117, unnormalized = 990.9786376953125\n",
      "iteration 12,  reconstraction error: 0.2319379299879074, decrease = 0.023166850209236145, unnormalized = 900.9848022460938\n",
      "iteration 13,  reconstraction error: 0.2107943445444107, decrease = 0.021143585443496704, unnormalized = 818.8505249023438\n",
      "iteration 14,  reconstraction error: 0.19106434285640717, decrease = 0.01973000168800354, unnormalized = 742.2074584960938\n",
      "iteration 15,  reconstraction error: 0.17093294858932495, decrease = 0.020131394267082214, unnormalized = 664.0051879882812\n",
      "iteration 16,  reconstraction error: 0.15090878307819366, decrease = 0.020024165511131287, unnormalized = 586.2194213867188\n",
      "iteration 17,  reconstraction error: 0.13295045495033264, decrease = 0.017958328127861023, unnormalized = 516.4586181640625\n",
      "iteration 18,  reconstraction error: 0.11780474334955215, decrease = 0.015145711600780487, unnormalized = 457.6236572265625\n",
      "iteration 19,  reconstraction error: 0.10589484870433807, decrease = 0.01190989464521408, unnormalized = 411.3585205078125\n",
      "iteration 20,  reconstraction error: 0.09772467613220215, decrease = 0.008170172572135925, unnormalized = 379.6207275390625\n",
      "iteration 21,  reconstraction error: 0.09215568006038666, decrease = 0.005568996071815491, unnormalized = 357.9874267578125\n",
      "iteration 22,  reconstraction error: 0.08743184804916382, decrease = 0.004723832011222839, unnormalized = 339.63726806640625\n",
      "iteration 23,  reconstraction error: 0.08219441771507263, decrease = 0.0052374303340911865, unnormalized = 319.2919616699219\n",
      "iteration 24,  reconstraction error: 0.07848451286554337, decrease = 0.0037099048495292664, unnormalized = 304.8804931640625\n",
      "iteration 25,  reconstraction error: 0.07648584991693497, decrease = 0.0019986629486083984, unnormalized = 297.11651611328125\n",
      "iteration 26,  reconstraction error: 0.07530064880847931, decrease = 0.001185201108455658, unnormalized = 292.5124816894531\n",
      "iteration 27,  reconstraction error: 0.07449958473443985, decrease = 0.0008010640740394592, unnormalized = 289.4006652832031\n",
      "iteration 28,  reconstraction error: 0.07392172515392303, decrease = 0.0005778595805168152, unnormalized = 287.1559143066406\n",
      "iteration 29,  reconstraction error: 0.0734967440366745, decrease = 0.00042498111724853516, unnormalized = 285.5050354003906\n",
      "iteration 30,  reconstraction error: 0.07318195700645447, decrease = 0.00031478703022003174, unnormalized = 284.2822265625\n",
      "iteration 31,  reconstraction error: 0.07294082641601562, decrease = 0.00024113059043884277, unnormalized = 283.34552001953125\n",
      "iteration 32,  reconstraction error: 0.07272087782621384, decrease = 0.00021994858980178833, unnormalized = 282.4911193847656\n",
      "iteration 33,  reconstraction error: 0.0723281055688858, decrease = 0.00039277225732803345, unnormalized = 280.9653625488281\n",
      "iteration 34,  reconstraction error: 0.07052311301231384, decrease = 0.0018049925565719604, unnormalized = 273.95367431640625\n",
      "iteration 35,  reconstraction error: 0.06672793626785278, decrease = 0.0037951767444610596, unnormalized = 259.2109680175781\n",
      "iteration 36,  reconstraction error: 0.06440506875514984, decrease = 0.002322867512702942, unnormalized = 250.1875762939453\n",
      "iteration 37,  reconstraction error: 0.06277187168598175, decrease = 0.0016331970691680908, unnormalized = 243.84326171875\n",
      "iteration 38,  reconstraction error: 0.061898987740278244, decrease = 0.0008728839457035065, unnormalized = 240.45245361328125\n",
      "iteration 39,  reconstraction error: 0.06157812848687172, decrease = 0.00032085925340652466, unnormalized = 239.2060546875\n",
      "iteration 40,  reconstraction error: 0.06147809699177742, decrease = 0.00010003149509429932, unnormalized = 238.81747436523438\n",
      "iteration 41,  reconstraction error: 0.061444081366062164, decrease = 3.401562571525574e-05, unnormalized = 238.68533325195312\n",
      "iteration 42,  reconstraction error: 0.06142979487776756, decrease = 1.428648829460144e-05, unnormalized = 238.6298370361328\n",
      "iteration 43,  reconstraction error: 0.061422403901815414, decrease = 7.3909759521484375e-06, unnormalized = 238.6011199951172\n",
      "iteration 44,  reconstraction error: 0.061417900025844574, decrease = 4.503875970840454e-06, unnormalized = 238.58363342285156\n",
      "iteration 45,  reconstraction error: 0.061414845287799835, decrease = 3.0547380447387695e-06, unnormalized = 238.57176208496094\n",
      "iteration 46,  reconstraction error: 0.06141261011362076, decrease = 2.2351741790771484e-06, unnormalized = 238.56307983398438\n",
      "iteration 47,  reconstraction error: 0.06141088530421257, decrease = 1.7248094081878662e-06, unnormalized = 238.55638122558594\n",
      "iteration 48,  reconstraction error: 0.06140952184796333, decrease = 1.3634562492370605e-06, unnormalized = 238.55108642578125\n",
      "iteration 49,  reconstraction error: 0.061408404260873795, decrease = 1.1175870895385742e-06, unnormalized = 238.54673767089844\n",
      "iteration 50,  reconstraction error: 0.06140747293829918, decrease = 9.313225746154785e-07, unnormalized = 238.54312133789062\n",
      "iteration 51,  reconstraction error: 0.06140667945146561, decrease = 7.934868335723877e-07, unnormalized = 238.5400390625\n",
      "iteration 52,  reconstraction error: 0.06140600144863129, decrease = 6.780028343200684e-07, unnormalized = 238.53741455078125\n",
      "iteration 53,  reconstraction error: 0.06140541285276413, decrease = 5.885958671569824e-07, unnormalized = 238.53512573242188\n",
      "iteration 54,  reconstraction error: 0.06140489503741264, decrease = 5.178153514862061e-07, unnormalized = 238.53311157226562\n",
      "iteration 55,  reconstraction error: 0.06140444055199623, decrease = 4.544854164123535e-07, unnormalized = 238.53134155273438\n",
      "iteration 56,  reconstraction error: 0.061404038220644, decrease = 4.023313522338867e-07, unnormalized = 238.52978515625\n",
      "iteration 57,  reconstraction error: 0.06140367314219475, decrease = 3.650784492492676e-07, unnormalized = 238.5283660888672\n",
      "iteration 58,  reconstraction error: 0.06140334904193878, decrease = 3.241002559661865e-07, unnormalized = 238.527099609375\n",
      "iteration 59,  reconstraction error: 0.0614030547440052, decrease = 2.942979335784912e-07, unnormalized = 238.5259552001953\n",
      "iteration 60,  reconstraction error: 0.061402786523103714, decrease = 2.682209014892578e-07, unnormalized = 238.52491760253906\n",
      "iteration 61,  reconstraction error: 0.061402544379234314, decrease = 2.421438694000244e-07, unnormalized = 238.5239715576172\n",
      "iteration 62,  reconstraction error: 0.061402328312397, decrease = 2.1606683731079102e-07, unnormalized = 238.52313232421875\n",
      "iteration 63,  reconstraction error: 0.061402127146720886, decrease = 2.0116567611694336e-07, unnormalized = 238.52235412597656\n",
      "iteration 64,  reconstraction error: 0.06140194088220596, decrease = 1.862645149230957e-07, unnormalized = 238.52163696289062\n",
      "iteration 65,  reconstraction error: 0.06140177696943283, decrease = 1.6391277313232422e-07, unnormalized = 238.52099609375\n",
      "iteration 66,  reconstraction error: 0.061401624232530594, decrease = 1.5273690223693848e-07, unnormalized = 238.52040100097656\n"
     ]
    },
    {
     "name": "stdout",
     "output_type": "stream",
     "text": [
      "iteration 67,  reconstraction error: 0.06140148267149925, decrease = 1.4156103134155273e-07, unnormalized = 238.5198516845703\n",
      "iteration 68,  reconstraction error: 0.06140134856104851, decrease = 1.341104507446289e-07, unnormalized = 238.5193328857422\n",
      "iteration 69,  reconstraction error: 0.061401233077049255, decrease = 1.1548399925231934e-07, unnormalized = 238.51889038085938\n",
      "iteration 70,  reconstraction error: 0.0614011213183403, decrease = 1.1175870895385742e-07, unnormalized = 238.51844787597656\n",
      "iteration 71,  reconstraction error: 0.06140100955963135, decrease = 1.1175870895385742e-07, unnormalized = 238.5180206298828\n",
      "iteration 72,  reconstraction error: 0.061400916427373886, decrease = 9.313225746154785e-08, unnormalized = 238.5176544189453\n",
      "iteration 73,  reconstraction error: 0.06140083074569702, decrease = 8.568167686462402e-08, unnormalized = 238.51731872558594\n",
      "iteration 74,  reconstraction error: 0.061400752514600754, decrease = 7.82310962677002e-08, unnormalized = 238.5170135498047\n",
      "iteration 75,  reconstraction error: 0.06140067055821419, decrease = 8.195638656616211e-08, unnormalized = 238.51669311523438\n",
      "iteration 76,  reconstraction error: 0.061400603502988815, decrease = 6.705522537231445e-08, unnormalized = 238.5164337158203\n",
      "iteration 77,  reconstraction error: 0.061400528997182846, decrease = 7.450580596923828e-08, unnormalized = 238.51614379882812\n",
      "iteration 78,  reconstraction error: 0.06140046566724777, decrease = 6.332993507385254e-08, unnormalized = 238.51589965820312\n",
      "iteration 79,  reconstraction error: 0.061400406062603, decrease = 5.960464477539063e-08, unnormalized = 238.5156707763672\n",
      "iteration 80,  reconstraction error: 0.06140034645795822, decrease = 5.960464477539063e-08, unnormalized = 238.51544189453125\n",
      "iteration 81,  reconstraction error: 0.06140029430389404, decrease = 5.21540641784668e-08, unnormalized = 238.51524353027344\n",
      "iteration 82,  reconstraction error: 0.061400242149829865, decrease = 5.21540641784668e-08, unnormalized = 238.51502990722656\n",
      "iteration 83,  reconstraction error: 0.06140019744634628, decrease = 4.470348358154297e-08, unnormalized = 238.51486206054688\n",
      "iteration 84,  reconstraction error: 0.0614001490175724, decrease = 4.842877388000488e-08, unnormalized = 238.51467895507812\n",
      "iteration 85,  reconstraction error: 0.06140011176466942, decrease = 3.725290298461914e-08, unnormalized = 238.5145263671875\n",
      "iteration 86,  reconstraction error: 0.06140006333589554, decrease = 4.842877388000488e-08, unnormalized = 238.51434326171875\n",
      "iteration 87,  reconstraction error: 0.06140002980828285, decrease = 3.3527612686157227e-08, unnormalized = 238.5142059326172\n",
      "iteration 88,  reconstraction error: 0.06139998510479927, decrease = 4.470348358154297e-08, unnormalized = 238.5140380859375\n",
      "iteration 89,  reconstraction error: 0.06139995530247688, decrease = 2.9802322387695312e-08, unnormalized = 238.513916015625\n",
      "iteration 90,  reconstraction error: 0.0613999143242836, decrease = 4.0978193283081055e-08, unnormalized = 238.51376342773438\n",
      "iteration 91,  reconstraction error: 0.061399880796670914, decrease = 3.3527612686157227e-08, unnormalized = 238.5136260986328\n",
      "iteration 92,  reconstraction error: 0.06139984726905823, decrease = 3.3527612686157227e-08, unnormalized = 238.5135040283203\n",
      "iteration 93,  reconstraction error: 0.06139981746673584, decrease = 2.9802322387695312e-08, unnormalized = 238.5133819580078\n",
      "iteration 94,  reconstraction error: 0.061399780213832855, decrease = 3.725290298461914e-08, unnormalized = 238.51324462890625\n",
      "iteration 95,  reconstraction error: 0.06139975041151047, decrease = 2.9802322387695312e-08, unnormalized = 238.51312255859375\n",
      "iteration 96,  reconstraction error: 0.06139972060918808, decrease = 2.9802322387695312e-08, unnormalized = 238.5130157470703\n",
      "iteration 97,  reconstraction error: 0.06139969080686569, decrease = 2.9802322387695312e-08, unnormalized = 238.5128936767578\n",
      "iteration 98,  reconstraction error: 0.0613996647298336, decrease = 2.60770320892334e-08, unnormalized = 238.51278686523438\n",
      "iteration 99,  reconstraction error: 0.061399634927511215, decrease = 2.9802322387695312e-08, unnormalized = 238.51268005371094\n",
      "iteration 100,  reconstraction error: 0.06139960512518883, decrease = 2.9802322387695312e-08, unnormalized = 238.51255798339844\n",
      "iteration 101,  reconstraction error: 0.061399586498737335, decrease = 1.862645149230957e-08, unnormalized = 238.51248168945312\n",
      "iteration 102,  reconstraction error: 0.06139955297112465, decrease = 3.3527612686157227e-08, unnormalized = 238.51235961914062\n",
      "iteration 103,  reconstraction error: 0.06139952689409256, decrease = 2.60770320892334e-08, unnormalized = 238.5122528076172\n",
      "iteration 104,  reconstraction error: 0.061399493366479874, decrease = 3.3527612686157227e-08, unnormalized = 238.5121307373047\n",
      "iteration 105,  reconstraction error: 0.06139947101473808, decrease = 2.2351741790771484e-08, unnormalized = 238.5120391845703\n",
      "iteration 106,  reconstraction error: 0.06139945238828659, decrease = 1.862645149230957e-08, unnormalized = 238.511962890625\n",
      "iteration 107,  reconstraction error: 0.0613994225859642, decrease = 2.9802322387695312e-08, unnormalized = 238.51185607910156\n",
      "iteration 108,  reconstraction error: 0.06139940023422241, decrease = 2.2351741790771484e-08, unnormalized = 238.5117645263672\n",
      "iteration 109,  reconstraction error: 0.06139937415719032, decrease = 2.60770320892334e-08, unnormalized = 238.51165771484375\n",
      "iteration 110,  reconstraction error: 0.061399348080158234, decrease = 2.60770320892334e-08, unnormalized = 238.51156616210938\n",
      "iteration 111,  reconstraction error: 0.06139932572841644, decrease = 2.2351741790771484e-08, unnormalized = 238.511474609375\n",
      "iteration 112,  reconstraction error: 0.06139930337667465, decrease = 2.2351741790771484e-08, unnormalized = 238.51138305664062\n",
      "iteration 113,  reconstraction error: 0.061399273574352264, decrease = 2.9802322387695312e-08, unnormalized = 238.5112762451172\n",
      "iteration 114,  reconstraction error: 0.061399247497320175, decrease = 2.60770320892334e-08, unnormalized = 238.51116943359375\n",
      "iteration 115,  reconstraction error: 0.06139921769499779, decrease = 2.9802322387695312e-08, unnormalized = 238.5110626220703\n",
      "iteration 116,  reconstraction error: 0.061399202793836594, decrease = 1.4901161193847656e-08, unnormalized = 238.51100158691406\n",
      "iteration 117,  reconstraction error: 0.061399172991514206, decrease = 2.9802322387695312e-08, unnormalized = 238.51087951660156\n",
      "iteration 118,  reconstraction error: 0.061399154365062714, decrease = 1.862645149230957e-08, unnormalized = 238.51080322265625\n",
      "iteration 119,  reconstraction error: 0.061399124562740326, decrease = 2.9802322387695312e-08, unnormalized = 238.5106964111328\n",
      "iteration 120,  reconstraction error: 0.061399102210998535, decrease = 2.2351741790771484e-08, unnormalized = 238.51060485839844\n",
      "iteration 121,  reconstraction error: 0.06139908358454704, decrease = 1.862645149230957e-08, unnormalized = 238.51052856445312\n",
      "iteration 122,  reconstraction error: 0.061399057507514954, decrease = 2.60770320892334e-08, unnormalized = 238.51043701171875\n",
      "iteration 123,  reconstraction error: 0.061399031430482864, decrease = 2.60770320892334e-08, unnormalized = 238.5103302001953\n",
      "iteration 124,  reconstraction error: 0.06139901280403137, decrease = 1.862645149230957e-08, unnormalized = 238.51025390625\n",
      "iteration 125,  reconstraction error: 0.061398983001708984, decrease = 2.9802322387695312e-08, unnormalized = 238.51014709472656\n",
      "iteration 126,  reconstraction error: 0.061398960649967194, decrease = 2.2351741790771484e-08, unnormalized = 238.5100555419922\n",
      "iteration 127,  reconstraction error: 0.0613989382982254, decrease = 2.2351741790771484e-08, unnormalized = 238.5099639892578\n",
      "iteration 128,  reconstraction error: 0.061398908495903015, decrease = 2.9802322387695312e-08, unnormalized = 238.50985717773438\n",
      "iteration 129,  reconstraction error: 0.061398886144161224, decrease = 2.2351741790771484e-08, unnormalized = 238.509765625\n",
      "iteration 130,  reconstraction error: 0.06139885634183884, decrease = 2.9802322387695312e-08, unnormalized = 238.50965881347656\n",
      "iteration 131,  reconstraction error: 0.061398837715387344, decrease = 1.862645149230957e-08, unnormalized = 238.50958251953125\n"
     ]
    },
    {
     "name": "stdout",
     "output_type": "stream",
     "text": [
      "iteration 132,  reconstraction error: 0.06139881908893585, decrease = 1.862645149230957e-08, unnormalized = 238.50950622558594\n",
      "iteration 133,  reconstraction error: 0.061398785561323166, decrease = 3.3527612686157227e-08, unnormalized = 238.50938415527344\n",
      "iteration 134,  reconstraction error: 0.061398763209581375, decrease = 2.2351741790771484e-08, unnormalized = 238.50929260253906\n",
      "iteration 135,  reconstraction error: 0.061398740857839584, decrease = 2.2351741790771484e-08, unnormalized = 238.5092010498047\n",
      "iteration 136,  reconstraction error: 0.061398718506097794, decrease = 2.2351741790771484e-08, unnormalized = 238.5091094970703\n",
      "iteration 137,  reconstraction error: 0.061398692429065704, decrease = 2.60770320892334e-08, unnormalized = 238.50901794433594\n",
      "iteration 138,  reconstraction error: 0.06139867380261421, decrease = 1.862645149230957e-08, unnormalized = 238.50894165039062\n",
      "iteration 139,  reconstraction error: 0.061398640275001526, decrease = 3.3527612686157227e-08, unnormalized = 238.50881958007812\n",
      "iteration 140,  reconstraction error: 0.061398617923259735, decrease = 2.2351741790771484e-08, unnormalized = 238.50872802734375\n",
      "iteration 141,  reconstraction error: 0.061398591846227646, decrease = 2.60770320892334e-08, unnormalized = 238.5086212158203\n",
      "iteration 142,  reconstraction error: 0.06139856576919556, decrease = 2.60770320892334e-08, unnormalized = 238.50852966308594\n",
      "iteration 143,  reconstraction error: 0.061398547142744064, decrease = 1.862645149230957e-08, unnormalized = 238.50845336914062\n",
      "iteration 144,  reconstraction error: 0.061398521065711975, decrease = 2.60770320892334e-08, unnormalized = 238.5083465576172\n",
      "iteration 145,  reconstraction error: 0.06139849126338959, decrease = 2.9802322387695312e-08, unnormalized = 238.50823974609375\n",
      "iteration 146,  reconstraction error: 0.061398472636938095, decrease = 1.862645149230957e-08, unnormalized = 238.50816345214844\n",
      "iteration 147,  reconstraction error: 0.061398450285196304, decrease = 2.2351741790771484e-08, unnormalized = 238.50807189941406\n",
      "iteration 148,  reconstraction error: 0.06139842048287392, decrease = 2.9802322387695312e-08, unnormalized = 238.50796508789062\n",
      "iteration 149,  reconstraction error: 0.06139839440584183, decrease = 2.60770320892334e-08, unnormalized = 238.5078582763672\n",
      "iteration 150,  reconstraction error: 0.06139837205410004, decrease = 2.2351741790771484e-08, unnormalized = 238.5077667236328\n",
      "iteration 151,  reconstraction error: 0.06139834225177765, decrease = 2.9802322387695312e-08, unnormalized = 238.50765991210938\n",
      "iteration 152,  reconstraction error: 0.06139831990003586, decrease = 2.2351741790771484e-08, unnormalized = 238.507568359375\n",
      "iteration 153,  reconstraction error: 0.06139829754829407, decrease = 2.2351741790771484e-08, unnormalized = 238.50747680664062\n",
      "iteration 154,  reconstraction error: 0.06139827147126198, decrease = 2.60770320892334e-08, unnormalized = 238.50738525390625\n",
      "iteration 155,  reconstraction error: 0.06139824539422989, decrease = 2.60770320892334e-08, unnormalized = 238.5072784423828\n",
      "iteration 156,  reconstraction error: 0.0613982193171978, decrease = 2.60770320892334e-08, unnormalized = 238.50717163085938\n",
      "iteration 157,  reconstraction error: 0.06139819324016571, decrease = 2.60770320892334e-08, unnormalized = 238.507080078125\n",
      "iteration 158,  reconstraction error: 0.06139817088842392, decrease = 2.2351741790771484e-08, unnormalized = 238.50698852539062\n",
      "iteration 159,  reconstraction error: 0.06139814108610153, decrease = 2.9802322387695312e-08, unnormalized = 238.50686645507812\n",
      "iteration 160,  reconstraction error: 0.06139811873435974, decrease = 2.2351741790771484e-08, unnormalized = 238.5067901611328\n",
      "iteration 161,  reconstraction error: 0.06139809265732765, decrease = 2.60770320892334e-08, unnormalized = 238.50668334960938\n",
      "iteration 162,  reconstraction error: 0.061398062855005264, decrease = 2.9802322387695312e-08, unnormalized = 238.50657653808594\n",
      "iteration 163,  reconstraction error: 0.061398040503263474, decrease = 2.2351741790771484e-08, unnormalized = 238.50648498535156\n",
      "iteration 164,  reconstraction error: 0.061398010700941086, decrease = 2.9802322387695312e-08, unnormalized = 238.50636291503906\n",
      "iteration 165,  reconstraction error: 0.061397984623909, decrease = 2.60770320892334e-08, unnormalized = 238.5062713623047\n",
      "iteration 166,  reconstraction error: 0.061397962272167206, decrease = 2.2351741790771484e-08, unnormalized = 238.5061798095703\n",
      "iteration 167,  reconstraction error: 0.061397939920425415, decrease = 2.2351741790771484e-08, unnormalized = 238.50608825683594\n",
      "iteration 168,  reconstraction error: 0.06139791011810303, decrease = 2.9802322387695312e-08, unnormalized = 238.5059814453125\n",
      "iteration 169,  reconstraction error: 0.06139788404107094, decrease = 2.60770320892334e-08, unnormalized = 238.50587463378906\n",
      "iteration 170,  reconstraction error: 0.06139785423874855, decrease = 2.9802322387695312e-08, unnormalized = 238.50575256347656\n",
      "iteration 171,  reconstraction error: 0.06139782816171646, decrease = 2.60770320892334e-08, unnormalized = 238.5056610107422\n",
      "iteration 172,  reconstraction error: 0.06139780208468437, decrease = 2.60770320892334e-08, unnormalized = 238.50555419921875\n",
      "iteration 173,  reconstraction error: 0.06139777973294258, decrease = 2.2351741790771484e-08, unnormalized = 238.50546264648438\n",
      "iteration 174,  reconstraction error: 0.061397749930620193, decrease = 2.9802322387695312e-08, unnormalized = 238.50535583496094\n",
      "iteration 175,  reconstraction error: 0.061397723853588104, decrease = 2.60770320892334e-08, unnormalized = 238.5052490234375\n",
      "iteration 176,  reconstraction error: 0.06139769405126572, decrease = 2.9802322387695312e-08, unnormalized = 238.50514221191406\n",
      "iteration 177,  reconstraction error: 0.06139766797423363, decrease = 2.60770320892334e-08, unnormalized = 238.50503540039062\n",
      "iteration 178,  reconstraction error: 0.06139764189720154, decrease = 2.60770320892334e-08, unnormalized = 238.5049285888672\n",
      "iteration 179,  reconstraction error: 0.06139761582016945, decrease = 2.60770320892334e-08, unnormalized = 238.5048370361328\n",
      "iteration 180,  reconstraction error: 0.06139758601784706, decrease = 2.9802322387695312e-08, unnormalized = 238.5047149658203\n",
      "iteration 181,  reconstraction error: 0.06139756366610527, decrease = 2.2351741790771484e-08, unnormalized = 238.50462341308594\n",
      "iteration 182,  reconstraction error: 0.06139753386378288, decrease = 2.9802322387695312e-08, unnormalized = 238.5045166015625\n",
      "iteration 183,  reconstraction error: 0.061397504061460495, decrease = 2.9802322387695312e-08, unnormalized = 238.50439453125\n",
      "iteration 184,  reconstraction error: 0.06139747425913811, decrease = 2.9802322387695312e-08, unnormalized = 238.50428771972656\n",
      "iteration 185,  reconstraction error: 0.06139744818210602, decrease = 2.60770320892334e-08, unnormalized = 238.50418090820312\n",
      "iteration 186,  reconstraction error: 0.06139742583036423, decrease = 2.2351741790771484e-08, unnormalized = 238.50408935546875\n",
      "iteration 187,  reconstraction error: 0.06139739602804184, decrease = 2.9802322387695312e-08, unnormalized = 238.5039825439453\n",
      "iteration 188,  reconstraction error: 0.06139736995100975, decrease = 2.60770320892334e-08, unnormalized = 238.50387573242188\n",
      "iteration 189,  reconstraction error: 0.061397336423397064, decrease = 3.3527612686157227e-08, unnormalized = 238.50375366210938\n",
      "iteration 190,  reconstraction error: 0.061397306621074677, decrease = 2.9802322387695312e-08, unnormalized = 238.50363159179688\n",
      "iteration 191,  reconstraction error: 0.061397284269332886, decrease = 2.2351741790771484e-08, unnormalized = 238.5035400390625\n",
      "iteration 192,  reconstraction error: 0.0613972507417202, decrease = 3.3527612686157227e-08, unnormalized = 238.50341796875\n",
      "iteration 193,  reconstraction error: 0.06139722466468811, decrease = 2.60770320892334e-08, unnormalized = 238.50331115722656\n",
      "iteration 194,  reconstraction error: 0.061397191137075424, decrease = 3.3527612686157227e-08, unnormalized = 238.50318908691406\n",
      "iteration 195,  reconstraction error: 0.061397165060043335, decrease = 2.60770320892334e-08, unnormalized = 238.50308227539062\n",
      "iteration 196,  reconstraction error: 0.061397142708301544, decrease = 2.2351741790771484e-08, unnormalized = 238.50299072265625\n",
      "iteration 197,  reconstraction error: 0.06139710545539856, decrease = 3.725290298461914e-08, unnormalized = 238.5028533935547\n"
     ]
    },
    {
     "name": "stdout",
     "output_type": "stream",
     "text": [
      "iteration 198,  reconstraction error: 0.06139707937836647, decrease = 2.60770320892334e-08, unnormalized = 238.50274658203125\n",
      "iteration 199,  reconstraction error: 0.061397045850753784, decrease = 3.3527612686157227e-08, unnormalized = 238.50262451171875\n",
      "iteration 200,  reconstraction error: 0.06139702722430229, decrease = 1.862645149230957e-08, unnormalized = 238.50254821777344\n",
      "iteration 201,  reconstraction error: 0.061396997421979904, decrease = 2.9802322387695312e-08, unnormalized = 238.50242614746094\n",
      "iteration 202,  reconstraction error: 0.06139696016907692, decrease = 3.725290298461914e-08, unnormalized = 238.50228881835938\n",
      "iteration 203,  reconstraction error: 0.06139693409204483, decrease = 2.60770320892334e-08, unnormalized = 238.50218200683594\n",
      "iteration 204,  reconstraction error: 0.06139690428972244, decrease = 2.9802322387695312e-08, unnormalized = 238.5020751953125\n",
      "iteration 205,  reconstraction error: 0.06139687821269035, decrease = 2.60770320892334e-08, unnormalized = 238.50196838378906\n",
      "iteration 206,  reconstraction error: 0.061396848410367966, decrease = 2.9802322387695312e-08, unnormalized = 238.50184631347656\n",
      "iteration 207,  reconstraction error: 0.06139681115746498, decrease = 3.725290298461914e-08, unnormalized = 238.501708984375\n",
      "iteration 208,  reconstraction error: 0.06139678508043289, decrease = 2.60770320892334e-08, unnormalized = 238.50160217285156\n",
      "iteration 209,  reconstraction error: 0.061396755278110504, decrease = 2.9802322387695312e-08, unnormalized = 238.50149536132812\n",
      "iteration 210,  reconstraction error: 0.061396729201078415, decrease = 2.60770320892334e-08, unnormalized = 238.5013885498047\n",
      "iteration 211,  reconstraction error: 0.06139669939875603, decrease = 2.9802322387695312e-08, unnormalized = 238.5012664794922\n",
      "iteration 212,  reconstraction error: 0.06139666214585304, decrease = 3.725290298461914e-08, unnormalized = 238.50112915039062\n",
      "iteration 213,  reconstraction error: 0.06139663606882095, decrease = 2.60770320892334e-08, unnormalized = 238.5010223388672\n",
      "iteration 214,  reconstraction error: 0.061396606266498566, decrease = 2.9802322387695312e-08, unnormalized = 238.50091552734375\n",
      "iteration 215,  reconstraction error: 0.06139656901359558, decrease = 3.725290298461914e-08, unnormalized = 238.50076293945312\n",
      "iteration 216,  reconstraction error: 0.06139654293656349, decrease = 2.60770320892334e-08, unnormalized = 238.50067138671875\n",
      "iteration 217,  reconstraction error: 0.061396509408950806, decrease = 3.3527612686157227e-08, unnormalized = 238.5005340576172\n",
      "iteration 218,  reconstraction error: 0.06139647588133812, decrease = 3.3527612686157227e-08, unnormalized = 238.5004119873047\n",
      "iteration 219,  reconstraction error: 0.06139644980430603, decrease = 2.60770320892334e-08, unnormalized = 238.50030517578125\n",
      "iteration 220,  reconstraction error: 0.061396416276693344, decrease = 3.3527612686157227e-08, unnormalized = 238.5001678466797\n",
      "iteration 221,  reconstraction error: 0.061396386474370956, decrease = 2.9802322387695312e-08, unnormalized = 238.50006103515625\n",
      "iteration 222,  reconstraction error: 0.06139635667204857, decrease = 2.9802322387695312e-08, unnormalized = 238.49993896484375\n",
      "iteration 223,  reconstraction error: 0.06139632314443588, decrease = 3.3527612686157227e-08, unnormalized = 238.49981689453125\n",
      "iteration 224,  reconstraction error: 0.061396289616823196, decrease = 3.3527612686157227e-08, unnormalized = 238.4996795654297\n",
      "iteration 225,  reconstraction error: 0.06139625981450081, decrease = 2.9802322387695312e-08, unnormalized = 238.49957275390625\n",
      "iteration 226,  reconstraction error: 0.06139622628688812, decrease = 3.3527612686157227e-08, unnormalized = 238.4994354248047\n",
      "iteration 227,  reconstraction error: 0.061396192759275436, decrease = 3.3527612686157227e-08, unnormalized = 238.49929809570312\n",
      "iteration 228,  reconstraction error: 0.06139616295695305, decrease = 2.9802322387695312e-08, unnormalized = 238.4991912841797\n",
      "iteration 229,  reconstraction error: 0.06139612942934036, decrease = 3.3527612686157227e-08, unnormalized = 238.49905395507812\n",
      "iteration 230,  reconstraction error: 0.061396095901727676, decrease = 3.3527612686157227e-08, unnormalized = 238.49893188476562\n",
      "iteration 231,  reconstraction error: 0.06139606237411499, decrease = 3.3527612686157227e-08, unnormalized = 238.49879455566406\n",
      "iteration 232,  reconstraction error: 0.061396028846502304, decrease = 3.3527612686157227e-08, unnormalized = 238.49867248535156\n",
      "iteration 233,  reconstraction error: 0.061396002769470215, decrease = 2.60770320892334e-08, unnormalized = 238.49856567382812\n",
      "iteration 234,  reconstraction error: 0.06139596179127693, decrease = 4.0978193283081055e-08, unnormalized = 238.4984130859375\n",
      "iteration 235,  reconstraction error: 0.061395928263664246, decrease = 3.3527612686157227e-08, unnormalized = 238.49827575683594\n",
      "iteration 236,  reconstraction error: 0.06139589846134186, decrease = 2.9802322387695312e-08, unnormalized = 238.4981689453125\n",
      "iteration 237,  reconstraction error: 0.06139586493372917, decrease = 3.3527612686157227e-08, unnormalized = 238.49803161621094\n",
      "iteration 238,  reconstraction error: 0.061395831406116486, decrease = 3.3527612686157227e-08, unnormalized = 238.49789428710938\n",
      "iteration 239,  reconstraction error: 0.0613957941532135, decrease = 3.725290298461914e-08, unnormalized = 238.4977569580078\n",
      "iteration 240,  reconstraction error: 0.061395760625600815, decrease = 3.3527612686157227e-08, unnormalized = 238.49761962890625\n",
      "iteration 241,  reconstraction error: 0.06139572709798813, decrease = 3.3527612686157227e-08, unnormalized = 238.49749755859375\n",
      "iteration 242,  reconstraction error: 0.06139569357037544, decrease = 3.3527612686157227e-08, unnormalized = 238.4973602294922\n",
      "iteration 243,  reconstraction error: 0.06139565631747246, decrease = 3.725290298461914e-08, unnormalized = 238.49722290039062\n",
      "iteration 244,  reconstraction error: 0.06139562651515007, decrease = 2.9802322387695312e-08, unnormalized = 238.49710083007812\n",
      "iteration 245,  reconstraction error: 0.061395589262247086, decrease = 3.725290298461914e-08, unnormalized = 238.49696350097656\n",
      "iteration 246,  reconstraction error: 0.0613955520093441, decrease = 3.725290298461914e-08, unnormalized = 238.49681091308594\n",
      "iteration 247,  reconstraction error: 0.061395518481731415, decrease = 3.3527612686157227e-08, unnormalized = 238.49668884277344\n",
      "iteration 248,  reconstraction error: 0.06139548122882843, decrease = 3.725290298461914e-08, unnormalized = 238.4965362548828\n",
      "iteration 249,  reconstraction error: 0.061395443975925446, decrease = 3.725290298461914e-08, unnormalized = 238.49639892578125\n",
      "iteration 250,  reconstraction error: 0.06139541044831276, decrease = 3.3527612686157227e-08, unnormalized = 238.4962615966797\n",
      "iteration 251,  reconstraction error: 0.061395373195409775, decrease = 3.725290298461914e-08, unnormalized = 238.49612426757812\n",
      "iteration 252,  reconstraction error: 0.06139533966779709, decrease = 3.3527612686157227e-08, unnormalized = 238.49598693847656\n",
      "iteration 253,  reconstraction error: 0.061395302414894104, decrease = 3.725290298461914e-08, unnormalized = 238.495849609375\n",
      "iteration 254,  reconstraction error: 0.06139526516199112, decrease = 3.725290298461914e-08, unnormalized = 238.49569702148438\n",
      "iteration 255,  reconstraction error: 0.06139523163437843, decrease = 3.3527612686157227e-08, unnormalized = 238.49557495117188\n",
      "iteration 256,  reconstraction error: 0.06139519065618515, decrease = 4.0978193283081055e-08, unnormalized = 238.4954071044922\n",
      "iteration 257,  reconstraction error: 0.061395157128572464, decrease = 3.3527612686157227e-08, unnormalized = 238.4952850341797\n",
      "iteration 258,  reconstraction error: 0.06139511987566948, decrease = 3.725290298461914e-08, unnormalized = 238.49513244628906\n",
      "iteration 259,  reconstraction error: 0.061395082622766495, decrease = 3.725290298461914e-08, unnormalized = 238.4949951171875\n",
      "iteration 260,  reconstraction error: 0.06139504164457321, decrease = 4.0978193283081055e-08, unnormalized = 238.4948272705078\n",
      "iteration 261,  reconstraction error: 0.06139500439167023, decrease = 3.725290298461914e-08, unnormalized = 238.49468994140625\n",
      "iteration 262,  reconstraction error: 0.06139497086405754, decrease = 3.3527612686157227e-08, unnormalized = 238.4945526123047\n"
     ]
    },
    {
     "name": "stdout",
     "output_type": "stream",
     "text": [
      "iteration 263,  reconstraction error: 0.06139492616057396, decrease = 4.470348358154297e-08, unnormalized = 238.494384765625\n",
      "iteration 264,  reconstraction error: 0.06139489263296127, decrease = 3.3527612686157227e-08, unnormalized = 238.49424743652344\n",
      "iteration 265,  reconstraction error: 0.06139485538005829, decrease = 3.725290298461914e-08, unnormalized = 238.49411010742188\n",
      "iteration 266,  reconstraction error: 0.06139481067657471, decrease = 4.470348358154297e-08, unnormalized = 238.4939422607422\n",
      "iteration 267,  reconstraction error: 0.06139477342367172, decrease = 3.725290298461914e-08, unnormalized = 238.49378967285156\n",
      "iteration 268,  reconstraction error: 0.06139473617076874, decrease = 3.725290298461914e-08, unnormalized = 238.49365234375\n",
      "iteration 269,  reconstraction error: 0.06139469891786575, decrease = 3.725290298461914e-08, unnormalized = 238.49349975585938\n",
      "iteration 270,  reconstraction error: 0.06139465048909187, decrease = 4.842877388000488e-08, unnormalized = 238.49331665039062\n",
      "iteration 271,  reconstraction error: 0.06139461696147919, decrease = 3.3527612686157227e-08, unnormalized = 238.49317932128906\n",
      "iteration 272,  reconstraction error: 0.0613945797085762, decrease = 3.725290298461914e-08, unnormalized = 238.4930419921875\n",
      "iteration 273,  reconstraction error: 0.06139453500509262, decrease = 4.470348358154297e-08, unnormalized = 238.49285888671875\n",
      "iteration 274,  reconstraction error: 0.061394497752189636, decrease = 3.725290298461914e-08, unnormalized = 238.4927215576172\n",
      "iteration 275,  reconstraction error: 0.061394453048706055, decrease = 4.470348358154297e-08, unnormalized = 238.4925537109375\n",
      "iteration 276,  reconstraction error: 0.06139441579580307, decrease = 3.725290298461914e-08, unnormalized = 238.49240112304688\n",
      "iteration 277,  reconstraction error: 0.06139437109231949, decrease = 4.470348358154297e-08, unnormalized = 238.4922332763672\n",
      "iteration 278,  reconstraction error: 0.061394333839416504, decrease = 3.725290298461914e-08, unnormalized = 238.49208068847656\n",
      "iteration 279,  reconstraction error: 0.06139429286122322, decrease = 4.0978193283081055e-08, unnormalized = 238.49192810058594\n",
      "iteration 280,  reconstraction error: 0.06139424443244934, decrease = 4.842877388000488e-08, unnormalized = 238.49172973632812\n",
      "iteration 281,  reconstraction error: 0.061394207179546356, decrease = 3.725290298461914e-08, unnormalized = 238.49159240722656\n",
      "iteration 282,  reconstraction error: 0.061394162476062775, decrease = 4.470348358154297e-08, unnormalized = 238.49142456054688\n",
      "iteration 283,  reconstraction error: 0.06139412149786949, decrease = 4.0978193283081055e-08, unnormalized = 238.4912567138672\n",
      "iteration 284,  reconstraction error: 0.06139407306909561, decrease = 4.842877388000488e-08, unnormalized = 238.49107360839844\n",
      "iteration 285,  reconstraction error: 0.061394039541482925, decrease = 3.3527612686157227e-08, unnormalized = 238.49093627929688\n",
      "iteration 286,  reconstraction error: 0.061393991112709045, decrease = 4.842877388000488e-08, unnormalized = 238.49075317382812\n",
      "iteration 287,  reconstraction error: 0.06139395013451576, decrease = 4.0978193283081055e-08, unnormalized = 238.4906005859375\n",
      "iteration 288,  reconstraction error: 0.06139390543103218, decrease = 4.470348358154297e-08, unnormalized = 238.49041748046875\n",
      "iteration 289,  reconstraction error: 0.0613938607275486, decrease = 4.470348358154297e-08, unnormalized = 238.49024963378906\n",
      "iteration 290,  reconstraction error: 0.061393819749355316, decrease = 4.0978193283081055e-08, unnormalized = 238.49008178710938\n",
      "iteration 291,  reconstraction error: 0.061393775045871735, decrease = 4.470348358154297e-08, unnormalized = 238.4899139404297\n",
      "iteration 292,  reconstraction error: 0.061393726617097855, decrease = 4.842877388000488e-08, unnormalized = 238.48973083496094\n",
      "iteration 293,  reconstraction error: 0.06139368936419487, decrease = 3.725290298461914e-08, unnormalized = 238.4895782470703\n",
      "iteration 294,  reconstraction error: 0.06139363348484039, decrease = 5.587935447692871e-08, unnormalized = 238.48936462402344\n",
      "iteration 295,  reconstraction error: 0.06139358505606651, decrease = 4.842877388000488e-08, unnormalized = 238.4891815185547\n",
      "iteration 296,  reconstraction error: 0.06139354407787323, decrease = 4.0978193283081055e-08, unnormalized = 238.489013671875\n",
      "iteration 297,  reconstraction error: 0.06139349564909935, decrease = 4.842877388000488e-08, unnormalized = 238.48883056640625\n",
      "iteration 298,  reconstraction error: 0.06139345467090607, decrease = 4.0978193283081055e-08, unnormalized = 238.48866271972656\n",
      "iteration 299,  reconstraction error: 0.06139340624213219, decrease = 4.842877388000488e-08, unnormalized = 238.4884796142578\n",
      "iteration 300,  reconstraction error: 0.06139335408806801, decrease = 5.21540641784668e-08, unnormalized = 238.48828125\n",
      "iteration 301,  reconstraction error: 0.061393313109874725, decrease = 4.0978193283081055e-08, unnormalized = 238.4881134033203\n",
      "iteration 302,  reconstraction error: 0.06139326095581055, decrease = 5.21540641784668e-08, unnormalized = 238.4879150390625\n",
      "iteration 303,  reconstraction error: 0.06139320880174637, decrease = 5.21540641784668e-08, unnormalized = 238.4877166748047\n",
      "iteration 304,  reconstraction error: 0.061393167823553085, decrease = 4.0978193283081055e-08, unnormalized = 238.487548828125\n",
      "iteration 305,  reconstraction error: 0.06139311566948891, decrease = 5.21540641784668e-08, unnormalized = 238.4873504638672\n",
      "iteration 306,  reconstraction error: 0.06139306724071503, decrease = 4.842877388000488e-08, unnormalized = 238.48716735839844\n",
      "iteration 307,  reconstraction error: 0.06139301881194115, decrease = 4.842877388000488e-08, unnormalized = 238.48696899414062\n",
      "iteration 308,  reconstraction error: 0.06139296665787697, decrease = 5.21540641784668e-08, unnormalized = 238.4867706298828\n",
      "iteration 309,  reconstraction error: 0.06139292195439339, decrease = 4.470348358154297e-08, unnormalized = 238.48660278320312\n",
      "iteration 310,  reconstraction error: 0.06139286607503891, decrease = 5.587935447692871e-08, unnormalized = 238.48638916015625\n",
      "iteration 311,  reconstraction error: 0.06139282137155533, decrease = 4.470348358154297e-08, unnormalized = 238.4862060546875\n",
      "iteration 312,  reconstraction error: 0.06139276921749115, decrease = 5.21540641784668e-08, unnormalized = 238.4860076904297\n",
      "iteration 313,  reconstraction error: 0.06139271333813667, decrease = 5.587935447692871e-08, unnormalized = 238.4857940673828\n",
      "iteration 314,  reconstraction error: 0.06139266863465309, decrease = 4.470348358154297e-08, unnormalized = 238.48561096191406\n",
      "iteration 315,  reconstraction error: 0.061392609030008316, decrease = 5.960464477539063e-08, unnormalized = 238.48538208007812\n",
      "iteration 316,  reconstraction error: 0.061392560601234436, decrease = 4.842877388000488e-08, unnormalized = 238.48519897460938\n",
      "iteration 317,  reconstraction error: 0.06139250472187996, decrease = 5.587935447692871e-08, unnormalized = 238.4849853515625\n",
      "iteration 318,  reconstraction error: 0.06139245256781578, decrease = 5.21540641784668e-08, unnormalized = 238.48477172851562\n",
      "iteration 319,  reconstraction error: 0.0613924041390419, decrease = 4.842877388000488e-08, unnormalized = 238.48458862304688\n",
      "iteration 320,  reconstraction error: 0.061392344534397125, decrease = 5.960464477539063e-08, unnormalized = 238.48435974121094\n",
      "iteration 321,  reconstraction error: 0.061392296105623245, decrease = 4.842877388000488e-08, unnormalized = 238.48416137695312\n",
      "iteration 322,  reconstraction error: 0.06139223650097847, decrease = 5.960464477539063e-08, unnormalized = 238.4839324951172\n",
      "iteration 323,  reconstraction error: 0.06139218062162399, decrease = 5.587935447692871e-08, unnormalized = 238.4837188720703\n",
      "iteration 324,  reconstraction error: 0.061392124742269516, decrease = 5.587935447692871e-08, unnormalized = 238.48350524902344\n",
      "iteration 325,  reconstraction error: 0.06139206886291504, decrease = 5.587935447692871e-08, unnormalized = 238.48329162597656\n",
      "iteration 326,  reconstraction error: 0.06139201670885086, decrease = 5.21540641784668e-08, unnormalized = 238.4830780029297\n",
      "iteration 327,  reconstraction error: 0.061391957104206085, decrease = 5.960464477539063e-08, unnormalized = 238.48284912109375\n",
      "iteration 328,  reconstraction error: 0.06139190122485161, decrease = 5.587935447692871e-08, unnormalized = 238.48263549804688\n"
     ]
    },
    {
     "name": "stdout",
     "output_type": "stream",
     "text": [
      "iteration 329,  reconstraction error: 0.06139184162020683, decrease = 5.960464477539063e-08, unnormalized = 238.48240661621094\n",
      "iteration 330,  reconstraction error: 0.06139178201556206, decrease = 5.960464477539063e-08, unnormalized = 238.482177734375\n",
      "iteration 331,  reconstraction error: 0.06139172613620758, decrease = 5.587935447692871e-08, unnormalized = 238.48194885253906\n",
      "iteration 332,  reconstraction error: 0.061391670256853104, decrease = 5.587935447692871e-08, unnormalized = 238.4817352294922\n",
      "iteration 333,  reconstraction error: 0.06139161065220833, decrease = 5.960464477539063e-08, unnormalized = 238.48150634765625\n",
      "iteration 334,  reconstraction error: 0.061391547322273254, decrease = 6.332993507385254e-08, unnormalized = 238.48126220703125\n",
      "iteration 335,  reconstraction error: 0.06139148399233818, decrease = 6.332993507385254e-08, unnormalized = 238.48101806640625\n",
      "iteration 336,  reconstraction error: 0.061391428112983704, decrease = 5.587935447692871e-08, unnormalized = 238.4807891845703\n",
      "iteration 337,  reconstraction error: 0.06139136850833893, decrease = 5.960464477539063e-08, unnormalized = 238.48056030273438\n",
      "iteration 338,  reconstraction error: 0.061391305178403854, decrease = 6.332993507385254e-08, unnormalized = 238.48031616210938\n",
      "iteration 339,  reconstraction error: 0.06139124184846878, decrease = 6.332993507385254e-08, unnormalized = 238.48007202148438\n",
      "iteration 340,  reconstraction error: 0.06139117479324341, decrease = 6.705522537231445e-08, unnormalized = 238.4798126220703\n",
      "iteration 341,  reconstraction error: 0.06139111891388893, decrease = 5.587935447692871e-08, unnormalized = 238.47959899902344\n",
      "iteration 342,  reconstraction error: 0.06139104813337326, decrease = 7.078051567077637e-08, unnormalized = 238.4793243408203\n",
      "iteration 343,  reconstraction error: 0.061390988528728485, decrease = 5.960464477539063e-08, unnormalized = 238.47909545898438\n",
      "iteration 344,  reconstraction error: 0.06139092519879341, decrease = 6.332993507385254e-08, unnormalized = 238.4788360595703\n",
      "iteration 345,  reconstraction error: 0.06139085814356804, decrease = 6.705522537231445e-08, unnormalized = 238.47857666015625\n",
      "iteration 346,  reconstraction error: 0.06139079108834267, decrease = 6.705522537231445e-08, unnormalized = 238.4783172607422\n",
      "iteration 347,  reconstraction error: 0.06139072775840759, decrease = 6.332993507385254e-08, unnormalized = 238.4780731201172\n",
      "iteration 348,  reconstraction error: 0.06139066070318222, decrease = 6.705522537231445e-08, unnormalized = 238.47781372070312\n",
      "iteration 349,  reconstraction error: 0.06139058992266655, decrease = 7.078051567077637e-08, unnormalized = 238.4775390625\n",
      "iteration 350,  reconstraction error: 0.06139052286744118, decrease = 6.705522537231445e-08, unnormalized = 238.47727966308594\n",
      "iteration 351,  reconstraction error: 0.061390455812215805, decrease = 6.705522537231445e-08, unnormalized = 238.47702026367188\n",
      "iteration 352,  reconstraction error: 0.06139038875699043, decrease = 6.705522537231445e-08, unnormalized = 238.4767608642578\n",
      "iteration 353,  reconstraction error: 0.061390310525894165, decrease = 7.82310962677002e-08, unnormalized = 238.47645568847656\n",
      "iteration 354,  reconstraction error: 0.06139024347066879, decrease = 6.705522537231445e-08, unnormalized = 238.4761962890625\n",
      "iteration 355,  reconstraction error: 0.06139017269015312, decrease = 7.078051567077637e-08, unnormalized = 238.47592163085938\n",
      "iteration 356,  reconstraction error: 0.06139010190963745, decrease = 7.078051567077637e-08, unnormalized = 238.47564697265625\n",
      "iteration 357,  reconstraction error: 0.061390023678541183, decrease = 7.82310962677002e-08, unnormalized = 238.475341796875\n",
      "iteration 358,  reconstraction error: 0.06138995289802551, decrease = 7.078051567077637e-08, unnormalized = 238.47506713867188\n",
      "iteration 359,  reconstraction error: 0.06138988211750984, decrease = 7.078051567077637e-08, unnormalized = 238.47479248046875\n",
      "iteration 360,  reconstraction error: 0.06138980761170387, decrease = 7.450580596923828e-08, unnormalized = 238.47450256347656\n",
      "iteration 361,  reconstraction error: 0.0613897368311882, decrease = 7.078051567077637e-08, unnormalized = 238.47422790527344\n",
      "iteration 362,  reconstraction error: 0.06138965114951134, decrease = 8.568167686462402e-08, unnormalized = 238.47389221191406\n",
      "iteration 363,  reconstraction error: 0.06138957664370537, decrease = 7.450580596923828e-08, unnormalized = 238.47360229492188\n",
      "iteration 364,  reconstraction error: 0.0613895021378994, decrease = 7.450580596923828e-08, unnormalized = 238.4733123779297\n",
      "iteration 365,  reconstraction error: 0.06138942390680313, decrease = 7.82310962677002e-08, unnormalized = 238.47300720214844\n",
      "iteration 366,  reconstraction error: 0.06138934940099716, decrease = 7.450580596923828e-08, unnormalized = 238.47271728515625\n",
      "iteration 367,  reconstraction error: 0.061389267444610596, decrease = 8.195638656616211e-08, unnormalized = 238.47239685058594\n",
      "iteration 368,  reconstraction error: 0.06138918548822403, decrease = 8.195638656616211e-08, unnormalized = 238.4720916748047\n",
      "iteration 369,  reconstraction error: 0.06138910725712776, decrease = 7.82310962677002e-08, unnormalized = 238.47178649902344\n",
      "iteration 370,  reconstraction error: 0.0613890215754509, decrease = 8.568167686462402e-08, unnormalized = 238.47145080566406\n",
      "iteration 371,  reconstraction error: 0.06138894334435463, decrease = 7.82310962677002e-08, unnormalized = 238.4711456298828\n",
      "iteration 372,  reconstraction error: 0.06138886138796806, decrease = 8.195638656616211e-08, unnormalized = 238.4708251953125\n",
      "iteration 373,  reconstraction error: 0.0613887757062912, decrease = 8.568167686462402e-08, unnormalized = 238.47048950195312\n",
      "iteration 374,  reconstraction error: 0.06138869374990463, decrease = 8.195638656616211e-08, unnormalized = 238.4701690673828\n",
      "iteration 375,  reconstraction error: 0.06138860806822777, decrease = 8.568167686462402e-08, unnormalized = 238.4698486328125\n",
      "iteration 376,  reconstraction error: 0.061388518661260605, decrease = 8.940696716308594e-08, unnormalized = 238.46949768066406\n",
      "iteration 377,  reconstraction error: 0.06138843297958374, decrease = 8.568167686462402e-08, unnormalized = 238.4691619873047\n",
      "iteration 378,  reconstraction error: 0.061388347297906876, decrease = 8.568167686462402e-08, unnormalized = 238.4688262939453\n",
      "iteration 379,  reconstraction error: 0.06138825789093971, decrease = 8.940696716308594e-08, unnormalized = 238.46847534179688\n",
      "iteration 380,  reconstraction error: 0.06138816475868225, decrease = 9.313225746154785e-08, unnormalized = 238.46812438964844\n",
      "iteration 381,  reconstraction error: 0.06138807535171509, decrease = 8.940696716308594e-08, unnormalized = 238.4677734375\n",
      "iteration 382,  reconstraction error: 0.061387982219457626, decrease = 9.313225746154785e-08, unnormalized = 238.4674072265625\n",
      "iteration 383,  reconstraction error: 0.06138789653778076, decrease = 8.568167686462402e-08, unnormalized = 238.46707153320312\n",
      "iteration 384,  reconstraction error: 0.061387799680233, decrease = 9.685754776000977e-08, unnormalized = 238.46670532226562\n",
      "iteration 385,  reconstraction error: 0.06138771027326584, decrease = 8.940696716308594e-08, unnormalized = 238.4663543701172\n",
      "iteration 386,  reconstraction error: 0.06138761341571808, decrease = 9.685754776000977e-08, unnormalized = 238.46597290039062\n",
      "iteration 387,  reconstraction error: 0.06138751283288002, decrease = 1.0058283805847168e-07, unnormalized = 238.46559143066406\n",
      "iteration 388,  reconstraction error: 0.06138741970062256, decrease = 9.313225746154785e-08, unnormalized = 238.46522521972656\n",
      "iteration 389,  reconstraction error: 0.0613873228430748, decrease = 9.685754776000977e-08, unnormalized = 238.46484375\n",
      "iteration 390,  reconstraction error: 0.06138721480965614, decrease = 1.0803341865539551e-07, unnormalized = 238.4644317626953\n",
      "iteration 391,  reconstraction error: 0.061387114226818085, decrease = 1.0058283805847168e-07, unnormalized = 238.4640350341797\n",
      "iteration 392,  reconstraction error: 0.061387017369270325, decrease = 9.685754776000977e-08, unnormalized = 238.4636688232422\n",
      "iteration 393,  reconstraction error: 0.061386916786432266, decrease = 1.0058283805847168e-07, unnormalized = 238.46327209472656\n"
     ]
    },
    {
     "name": "stdout",
     "output_type": "stream",
     "text": [
      "iteration 394,  reconstraction error: 0.06138681247830391, decrease = 1.043081283569336e-07, unnormalized = 238.46286010742188\n",
      "iteration 395,  reconstraction error: 0.06138670817017555, decrease = 1.043081283569336e-07, unnormalized = 238.46246337890625\n",
      "iteration 396,  reconstraction error: 0.061386603862047195, decrease = 1.043081283569336e-07, unnormalized = 238.46205139160156\n",
      "iteration 397,  reconstraction error: 0.06138649210333824, decrease = 1.1175870895385742e-07, unnormalized = 238.4616241455078\n",
      "iteration 398,  reconstraction error: 0.061386384069919586, decrease = 1.0803341865539551e-07, unnormalized = 238.46119689941406\n",
      "iteration 399,  reconstraction error: 0.06138627603650093, decrease = 1.0803341865539551e-07, unnormalized = 238.46078491210938\n",
      "iteration 400,  reconstraction error: 0.06138616427779198, decrease = 1.1175870895385742e-07, unnormalized = 238.46034240722656\n",
      "iteration 401,  reconstraction error: 0.06138605624437332, decrease = 1.0803341865539551e-07, unnormalized = 238.45993041992188\n",
      "iteration 402,  reconstraction error: 0.06138594448566437, decrease = 1.1175870895385742e-07, unnormalized = 238.45948791503906\n",
      "iteration 403,  reconstraction error: 0.06138582155108452, decrease = 1.2293457984924316e-07, unnormalized = 238.45901489257812\n",
      "iteration 404,  reconstraction error: 0.061385706067085266, decrease = 1.1548399925231934e-07, unnormalized = 238.4585723876953\n",
      "iteration 405,  reconstraction error: 0.06138559430837631, decrease = 1.1175870895385742e-07, unnormalized = 238.4581298828125\n",
      "iteration 406,  reconstraction error: 0.06138547509908676, decrease = 1.1920928955078125e-07, unnormalized = 238.45767211914062\n",
      "iteration 407,  reconstraction error: 0.06138535588979721, decrease = 1.1920928955078125e-07, unnormalized = 238.45721435546875\n",
      "iteration 408,  reconstraction error: 0.06138524040579796, decrease = 1.1548399925231934e-07, unnormalized = 238.45675659179688\n",
      "iteration 409,  reconstraction error: 0.06138511374592781, decrease = 1.2665987014770508e-07, unnormalized = 238.45626831054688\n",
      "iteration 410,  reconstraction error: 0.06138498708605766, decrease = 1.2665987014770508e-07, unnormalized = 238.45578002929688\n",
      "iteration 411,  reconstraction error: 0.061384864151477814, decrease = 1.2293457984924316e-07, unnormalized = 238.45529174804688\n",
      "iteration 412,  reconstraction error: 0.061384741216897964, decrease = 1.2293457984924316e-07, unnormalized = 238.45481872558594\n",
      "iteration 413,  reconstraction error: 0.06138461083173752, decrease = 1.30385160446167e-07, unnormalized = 238.45431518554688\n",
      "iteration 414,  reconstraction error: 0.06138448044657707, decrease = 1.30385160446167e-07, unnormalized = 238.4538116455078\n",
      "iteration 415,  reconstraction error: 0.06138434633612633, decrease = 1.341104507446289e-07, unnormalized = 238.4532928466797\n",
      "iteration 416,  reconstraction error: 0.06138421967625618, decrease = 1.2665987014770508e-07, unnormalized = 238.45278930664062\n",
      "iteration 417,  reconstraction error: 0.061384085565805435, decrease = 1.341104507446289e-07, unnormalized = 238.4522705078125\n",
      "iteration 418,  reconstraction error: 0.06138394773006439, decrease = 1.3783574104309082e-07, unnormalized = 238.4517364501953\n",
      "iteration 419,  reconstraction error: 0.06138380989432335, decrease = 1.3783574104309082e-07, unnormalized = 238.45120239257812\n",
      "iteration 420,  reconstraction error: 0.06138366833329201, decrease = 1.4156103134155273e-07, unnormalized = 238.45065307617188\n",
      "iteration 421,  reconstraction error: 0.061383530497550964, decrease = 1.3783574104309082e-07, unnormalized = 238.4501190185547\n",
      "iteration 422,  reconstraction error: 0.06138338893651962, decrease = 1.4156103134155273e-07, unnormalized = 238.44956970214844\n",
      "iteration 423,  reconstraction error: 0.061383239924907684, decrease = 1.4901161193847656e-07, unnormalized = 238.44898986816406\n",
      "iteration 424,  reconstraction error: 0.06138310208916664, decrease = 1.3783574104309082e-07, unnormalized = 238.44845581054688\n",
      "iteration 425,  reconstraction error: 0.0613829530775547, decrease = 1.4901161193847656e-07, unnormalized = 238.4478759765625\n",
      "iteration 426,  reconstraction error: 0.061382804065942764, decrease = 1.4901161193847656e-07, unnormalized = 238.44729614257812\n",
      "iteration 427,  reconstraction error: 0.06138265132904053, decrease = 1.5273690223693848e-07, unnormalized = 238.4467010498047\n",
      "iteration 428,  reconstraction error: 0.06138249486684799, decrease = 1.564621925354004e-07, unnormalized = 238.4460906982422\n",
      "iteration 429,  reconstraction error: 0.061382342129945755, decrease = 1.5273690223693848e-07, unnormalized = 238.44549560546875\n",
      "iteration 430,  reconstraction error: 0.06138218939304352, decrease = 1.5273690223693848e-07, unnormalized = 238.4449005126953\n",
      "iteration 431,  reconstraction error: 0.061382025480270386, decrease = 1.6391277313232422e-07, unnormalized = 238.44427490234375\n",
      "iteration 432,  reconstraction error: 0.06138186156749725, decrease = 1.6391277313232422e-07, unnormalized = 238.44363403320312\n",
      "iteration 433,  reconstraction error: 0.06138169765472412, decrease = 1.6391277313232422e-07, unnormalized = 238.4429931640625\n",
      "iteration 434,  reconstraction error: 0.06138153374195099, decrease = 1.6391277313232422e-07, unnormalized = 238.44236755371094\n",
      "iteration 435,  reconstraction error: 0.06138136610388756, decrease = 1.6763806343078613e-07, unnormalized = 238.44171142578125\n",
      "iteration 436,  reconstraction error: 0.061381205916404724, decrease = 1.601874828338623e-07, unnormalized = 238.4410858154297\n",
      "iteration 437,  reconstraction error: 0.061381034553050995, decrease = 1.7136335372924805e-07, unnormalized = 238.44041442871094\n",
      "iteration 438,  reconstraction error: 0.06138085201382637, decrease = 1.825392246246338e-07, unnormalized = 238.43971252441406\n",
      "iteration 439,  reconstraction error: 0.06138068065047264, decrease = 1.7136335372924805e-07, unnormalized = 238.4390411376953\n",
      "iteration 440,  reconstraction error: 0.061380498111248016, decrease = 1.825392246246338e-07, unnormalized = 238.43833923339844\n",
      "iteration 441,  reconstraction error: 0.06138032302260399, decrease = 1.7508864402770996e-07, unnormalized = 238.43765258789062\n",
      "iteration 442,  reconstraction error: 0.061380136758089066, decrease = 1.862645149230957e-07, unnormalized = 238.4369354248047\n",
      "iteration 443,  reconstraction error: 0.06137995421886444, decrease = 1.825392246246338e-07, unnormalized = 238.43621826171875\n",
      "iteration 444,  reconstraction error: 0.06137976422905922, decrease = 1.8998980522155762e-07, unnormalized = 238.43548583984375\n",
      "iteration 445,  reconstraction error: 0.0613795705139637, decrease = 1.9371509552001953e-07, unnormalized = 238.4347381591797\n",
      "iteration 446,  reconstraction error: 0.061379384249448776, decrease = 1.862645149230957e-07, unnormalized = 238.4340057373047\n",
      "iteration 447,  reconstraction error: 0.06137918680906296, decrease = 1.9744038581848145e-07, unnormalized = 238.43324279785156\n",
      "iteration 448,  reconstraction error: 0.06137899309396744, decrease = 1.9371509552001953e-07, unnormalized = 238.4324951171875\n",
      "iteration 449,  reconstraction error: 0.06137878820300102, decrease = 2.0489096641540527e-07, unnormalized = 238.43170166015625\n",
      "iteration 450,  reconstraction error: 0.061378587037324905, decrease = 2.0116567611694336e-07, unnormalized = 238.430908203125\n",
      "iteration 451,  reconstraction error: 0.06137838214635849, decrease = 2.0489096641540527e-07, unnormalized = 238.43011474609375\n",
      "iteration 452,  reconstraction error: 0.06137816980481148, decrease = 2.123415470123291e-07, unnormalized = 238.42929077148438\n",
      "iteration 453,  reconstraction error: 0.06137796491384506, decrease = 2.0489096641540527e-07, unnormalized = 238.42849731445312\n",
      "iteration 454,  reconstraction error: 0.06137774884700775, decrease = 2.1606683731079102e-07, unnormalized = 238.4276580810547\n",
      "iteration 455,  reconstraction error: 0.06137753278017044, decrease = 2.1606683731079102e-07, unnormalized = 238.42681884765625\n",
      "iteration 456,  reconstraction error: 0.06137731671333313, decrease = 2.1606683731079102e-07, unnormalized = 238.4259796142578\n",
      "iteration 457,  reconstraction error: 0.06137709319591522, decrease = 2.2351741790771484e-07, unnormalized = 238.42510986328125\n",
      "iteration 458,  reconstraction error: 0.061376869678497314, decrease = 2.2351741790771484e-07, unnormalized = 238.4242401123047\n"
     ]
    },
    {
     "name": "stdout",
     "output_type": "stream",
     "text": [
      "iteration 459,  reconstraction error: 0.06137663871049881, decrease = 2.3096799850463867e-07, unnormalized = 238.42333984375\n",
      "iteration 460,  reconstraction error: 0.061376407742500305, decrease = 2.3096799850463867e-07, unnormalized = 238.42245483398438\n",
      "iteration 461,  reconstraction error: 0.0613761730492115, decrease = 2.3469328880310059e-07, unnormalized = 238.42153930664062\n",
      "iteration 462,  reconstraction error: 0.0613759346306324, decrease = 2.384185791015625e-07, unnormalized = 238.4206085205078\n",
      "iteration 463,  reconstraction error: 0.0613756962120533, decrease = 2.384185791015625e-07, unnormalized = 238.419677734375\n",
      "iteration 464,  reconstraction error: 0.0613754466176033, decrease = 2.4959444999694824e-07, unnormalized = 238.41871643066406\n",
      "iteration 465,  reconstraction error: 0.061375200748443604, decrease = 2.4586915969848633e-07, unnormalized = 238.41775512695312\n",
      "iteration 466,  reconstraction error: 0.06137494742870331, decrease = 2.5331974029541016e-07, unnormalized = 238.41677856445312\n",
      "iteration 467,  reconstraction error: 0.06137470155954361, decrease = 2.4586915969848633e-07, unnormalized = 238.4158172607422\n",
      "iteration 468,  reconstraction error: 0.06137444078922272, decrease = 2.60770320892334e-07, unnormalized = 238.41481018066406\n",
      "iteration 469,  reconstraction error: 0.06137418374419212, decrease = 2.5704503059387207e-07, unnormalized = 238.41380310058594\n",
      "iteration 470,  reconstraction error: 0.061373915523290634, decrease = 2.682209014892578e-07, unnormalized = 238.4127655029297\n",
      "iteration 471,  reconstraction error: 0.061373647302389145, decrease = 2.682209014892578e-07, unnormalized = 238.41172790527344\n",
      "iteration 472,  reconstraction error: 0.06137337163090706, decrease = 2.7567148208618164e-07, unnormalized = 238.41065979003906\n",
      "iteration 473,  reconstraction error: 0.06137310341000557, decrease = 2.682209014892578e-07, unnormalized = 238.40960693359375\n",
      "iteration 474,  reconstraction error: 0.061372820287942886, decrease = 2.8312206268310547e-07, unnormalized = 238.40850830078125\n",
      "iteration 475,  reconstraction error: 0.061372533440589905, decrease = 2.868473529815674e-07, unnormalized = 238.4073944091797\n",
      "iteration 476,  reconstraction error: 0.06137225031852722, decrease = 2.8312206268310547e-07, unnormalized = 238.4062957763672\n",
      "iteration 477,  reconstraction error: 0.06137195974588394, decrease = 2.905726432800293e-07, unnormalized = 238.40516662597656\n",
      "iteration 478,  reconstraction error: 0.06137166544795036, decrease = 2.942979335784912e-07, unnormalized = 238.40402221679688\n",
      "iteration 479,  reconstraction error: 0.061371367424726486, decrease = 2.980232238769531e-07, unnormalized = 238.40286254882812\n",
      "iteration 480,  reconstraction error: 0.06137106195092201, decrease = 3.0547380447387695e-07, unnormalized = 238.4016876220703\n",
      "iteration 481,  reconstraction error: 0.06137075275182724, decrease = 3.0919909477233887e-07, unnormalized = 238.40048217773438\n",
      "iteration 482,  reconstraction error: 0.06137044355273247, decrease = 3.0919909477233887e-07, unnormalized = 238.39927673339844\n",
      "iteration 483,  reconstraction error: 0.0613701306283474, decrease = 3.129243850708008e-07, unnormalized = 238.3980712890625\n",
      "iteration 484,  reconstraction error: 0.06136981025338173, decrease = 3.203749656677246e-07, unnormalized = 238.39682006835938\n",
      "iteration 485,  reconstraction error: 0.06136948615312576, decrease = 3.241002559661865e-07, unnormalized = 238.3955535888672\n",
      "iteration 486,  reconstraction error: 0.0613691620528698, decrease = 3.241002559661865e-07, unnormalized = 238.39430236816406\n",
      "iteration 487,  reconstraction error: 0.061368826776742935, decrease = 3.3527612686157227e-07, unnormalized = 238.39300537109375\n",
      "iteration 488,  reconstraction error: 0.061368491500616074, decrease = 3.3527612686157227e-07, unnormalized = 238.39169311523438\n",
      "iteration 489,  reconstraction error: 0.061368148773908615, decrease = 3.427267074584961e-07, unnormalized = 238.39036560058594\n",
      "iteration 490,  reconstraction error: 0.06136779859662056, decrease = 3.501772880554199e-07, unnormalized = 238.38900756835938\n",
      "iteration 491,  reconstraction error: 0.061367448419332504, decrease = 3.501772880554199e-07, unnormalized = 238.3876495361328\n",
      "iteration 492,  reconstraction error: 0.06136709451675415, decrease = 3.5390257835388184e-07, unnormalized = 238.3862762451172\n",
      "iteration 493,  reconstraction error: 0.0613667368888855, decrease = 3.5762786865234375e-07, unnormalized = 238.3848876953125\n",
      "iteration 494,  reconstraction error: 0.06136637181043625, decrease = 3.650784492492676e-07, unnormalized = 238.3834686279297\n",
      "iteration 495,  reconstraction error: 0.0613660030066967, decrease = 3.688037395477295e-07, unnormalized = 238.3820343017578\n",
      "iteration 496,  reconstraction error: 0.061365626752376556, decrease = 3.762543201446533e-07, unnormalized = 238.3805694580078\n",
      "iteration 497,  reconstraction error: 0.06136524677276611, decrease = 3.7997961044311523e-07, unnormalized = 238.37908935546875\n",
      "iteration 498,  reconstraction error: 0.06136486679315567, decrease = 3.7997961044311523e-07, unnormalized = 238.3776092529297\n",
      "iteration 499,  reconstraction error: 0.06136447191238403, decrease = 3.948807716369629e-07, unnormalized = 238.37608337402344\n",
      "iteration 500,  reconstraction error: 0.061364077031612396, decrease = 3.948807716369629e-07, unnormalized = 238.37454223632812\n",
      "iteration 501,  reconstraction error: 0.06136367842555046, decrease = 3.986060619354248e-07, unnormalized = 238.3730010986328\n",
      "iteration 502,  reconstraction error: 0.06136326864361763, decrease = 4.0978193283081055e-07, unnormalized = 238.3714141845703\n",
      "iteration 503,  reconstraction error: 0.0613628588616848, decrease = 4.0978193283081055e-07, unnormalized = 238.36981201171875\n",
      "iteration 504,  reconstraction error: 0.06136244535446167, decrease = 4.1350722312927246e-07, unnormalized = 238.3682098388672\n",
      "iteration 505,  reconstraction error: 0.061362020671367645, decrease = 4.246830940246582e-07, unnormalized = 238.36656188964844\n",
      "iteration 506,  reconstraction error: 0.061361588537693024, decrease = 4.3213367462158203e-07, unnormalized = 238.36488342285156\n",
      "iteration 507,  reconstraction error: 0.0613611564040184, decrease = 4.3213367462158203e-07, unnormalized = 238.3632049560547\n",
      "iteration 508,  reconstraction error: 0.061360716819763184, decrease = 4.3958425521850586e-07, unnormalized = 238.3614959716797\n",
      "iteration 509,  reconstraction error: 0.06136026978492737, decrease = 4.470348358154297e-07, unnormalized = 238.35975646972656\n",
      "iteration 510,  reconstraction error: 0.061359819024801254, decrease = 4.507601261138916e-07, unnormalized = 238.35800170898438\n",
      "iteration 511,  reconstraction error: 0.06135936081409454, decrease = 4.5821070671081543e-07, unnormalized = 238.35623168945312\n",
      "iteration 512,  reconstraction error: 0.06135889142751694, decrease = 4.6938657760620117e-07, unnormalized = 238.35440063476562\n",
      "iteration 513,  reconstraction error: 0.06135842204093933, decrease = 4.6938657760620117e-07, unnormalized = 238.3525848388672\n",
      "iteration 514,  reconstraction error: 0.061357948929071426, decrease = 4.731118679046631e-07, unnormalized = 238.35073852539062\n",
      "iteration 515,  reconstraction error: 0.06135746091604233, decrease = 4.880130290985107e-07, unnormalized = 238.34884643554688\n",
      "iteration 516,  reconstraction error: 0.06135696545243263, decrease = 4.954636096954346e-07, unnormalized = 238.346923828125\n",
      "iteration 517,  reconstraction error: 0.06135646253824234, decrease = 5.029141902923584e-07, unnormalized = 238.344970703125\n",
      "iteration 518,  reconstraction error: 0.06135595962405205, decrease = 5.029141902923584e-07, unnormalized = 238.343017578125\n",
      "iteration 519,  reconstraction error: 0.06135544553399086, decrease = 5.140900611877441e-07, unnormalized = 238.3410186767578\n",
      "iteration 520,  reconstraction error: 0.06135492026805878, decrease = 5.252659320831299e-07, unnormalized = 238.33897399902344\n",
      "iteration 521,  reconstraction error: 0.061354391276836395, decrease = 5.289912223815918e-07, unnormalized = 238.33692932128906\n",
      "iteration 522,  reconstraction error: 0.061353858560323715, decrease = 5.327165126800537e-07, unnormalized = 238.33485412597656\n",
      "iteration 523,  reconstraction error: 0.061353303492069244, decrease = 5.550682544708252e-07, unnormalized = 238.33270263671875\n"
     ]
    },
    {
     "name": "stdout",
     "output_type": "stream",
     "text": [
      "iteration 524,  reconstraction error: 0.061352748423814774, decrease = 5.550682544708252e-07, unnormalized = 238.33053588867188\n",
      "iteration 525,  reconstraction error: 0.06135218217968941, decrease = 5.662441253662109e-07, unnormalized = 238.32833862304688\n",
      "iteration 526,  reconstraction error: 0.06135160103440285, decrease = 5.811452865600586e-07, unnormalized = 238.32608032226562\n",
      "iteration 527,  reconstraction error: 0.061351023614406586, decrease = 5.774199962615967e-07, unnormalized = 238.32383728027344\n",
      "iteration 528,  reconstraction error: 0.06135042384266853, decrease = 5.997717380523682e-07, unnormalized = 238.32151794433594\n",
      "iteration 529,  reconstraction error: 0.061349812895059586, decrease = 6.109476089477539e-07, unnormalized = 238.3191375732422\n",
      "iteration 530,  reconstraction error: 0.06134919449687004, decrease = 6.183981895446777e-07, unnormalized = 238.31674194335938\n",
      "iteration 531,  reconstraction error: 0.0613485611975193, decrease = 6.332993507385254e-07, unnormalized = 238.31427001953125\n",
      "iteration 532,  reconstraction error: 0.06134791672229767, decrease = 6.444752216339111e-07, unnormalized = 238.311767578125\n",
      "iteration 533,  reconstraction error: 0.06134726107120514, decrease = 6.556510925292969e-07, unnormalized = 238.30921936035156\n",
      "iteration 534,  reconstraction error: 0.06134657934308052, decrease = 6.817281246185303e-07, unnormalized = 238.30657958984375\n",
      "iteration 535,  reconstraction error: 0.061345893889665604, decrease = 6.854534149169922e-07, unnormalized = 238.3039093017578\n",
      "iteration 536,  reconstraction error: 0.061345186084508896, decrease = 7.078051567077637e-07, unnormalized = 238.30116271972656\n",
      "iteration 537,  reconstraction error: 0.0613444559276104, decrease = 7.301568984985352e-07, unnormalized = 238.29832458496094\n",
      "iteration 538,  reconstraction error: 0.061343710869550705, decrease = 7.450580596923828e-07, unnormalized = 238.29544067382812\n",
      "iteration 539,  reconstraction error: 0.06134294345974922, decrease = 7.674098014831543e-07, unnormalized = 238.29244995117188\n",
      "iteration 540,  reconstraction error: 0.06134215369820595, decrease = 7.897615432739258e-07, unnormalized = 238.2893829345703\n",
      "iteration 541,  reconstraction error: 0.06134134531021118, decrease = 8.083879947662354e-07, unnormalized = 238.28623962402344\n",
      "iteration 542,  reconstraction error: 0.061340492218732834, decrease = 8.530914783477783e-07, unnormalized = 238.28292846679688\n",
      "iteration 543,  reconstraction error: 0.06133962422609329, decrease = 8.67992639541626e-07, unnormalized = 238.27955627441406\n",
      "iteration 544,  reconstraction error: 0.06133871525526047, decrease = 9.08970832824707e-07, unnormalized = 238.27603149414062\n",
      "iteration 545,  reconstraction error: 0.06133777275681496, decrease = 9.424984455108643e-07, unnormalized = 238.27236938476562\n",
      "iteration 546,  reconstraction error: 0.061336785554885864, decrease = 9.872019290924072e-07, unnormalized = 238.26853942871094\n",
      "iteration 547,  reconstraction error: 0.06133575364947319, decrease = 1.0319054126739502e-06, unnormalized = 238.2645263671875\n",
      "iteration 548,  reconstraction error: 0.06133466958999634, decrease = 1.084059476852417e-06, unnormalized = 238.26031494140625\n",
      "iteration 549,  reconstraction error: 0.06133352592587471, decrease = 1.1436641216278076e-06, unnormalized = 238.25587463378906\n",
      "iteration 550,  reconstraction error: 0.06133231520652771, decrease = 1.210719347000122e-06, unnormalized = 238.25115966796875\n",
      "iteration 551,  reconstraction error: 0.06133102625608444, decrease = 1.2889504432678223e-06, unnormalized = 238.24615478515625\n",
      "iteration 552,  reconstraction error: 0.06132964417338371, decrease = 1.3820827007293701e-06, unnormalized = 238.24078369140625\n",
      "iteration 553,  reconstraction error: 0.06132814660668373, decrease = 1.4975666999816895e-06, unnormalized = 238.23497009277344\n",
      "iteration 554,  reconstraction error: 0.0613265298306942, decrease = 1.6167759895324707e-06, unnormalized = 238.22869873046875\n",
      "iteration 555,  reconstraction error: 0.06132476031780243, decrease = 1.7695128917694092e-06, unnormalized = 238.22181701660156\n",
      "iteration 556,  reconstraction error: 0.06132279336452484, decrease = 1.9669532775878906e-06, unnormalized = 238.21417236328125\n",
      "iteration 557,  reconstraction error: 0.06132059916853905, decrease = 2.1941959857940674e-06, unnormalized = 238.20565795898438\n",
      "iteration 558,  reconstraction error: 0.06131812185049057, decrease = 2.477318048477173e-06, unnormalized = 238.19602966308594\n",
      "iteration 559,  reconstraction error: 0.06131526455283165, decrease = 2.857297658920288e-06, unnormalized = 238.1849365234375\n",
      "iteration 560,  reconstraction error: 0.06131191924214363, decrease = 3.345310688018799e-06, unnormalized = 238.17193603515625\n",
      "iteration 561,  reconstraction error: 0.06130791828036308, decrease = 4.000961780548096e-06, unnormalized = 238.15638732910156\n",
      "iteration 562,  reconstraction error: 0.061302993446588516, decrease = 4.92483377456665e-06, unnormalized = 238.13726806640625\n",
      "iteration 563,  reconstraction error: 0.06129675358533859, decrease = 6.239861249923706e-06, unnormalized = 238.11302185058594\n",
      "iteration 564,  reconstraction error: 0.061288513243198395, decrease = 8.240342140197754e-06, unnormalized = 238.0810089111328\n",
      "iteration 565,  reconstraction error: 0.061277054250240326, decrease = 1.1458992958068848e-05, unnormalized = 238.0364990234375\n",
      "iteration 566,  reconstraction error: 0.06126006692647934, decrease = 1.6987323760986328e-05, unnormalized = 237.9705047607422\n",
      "iteration 567,  reconstraction error: 0.061232637614011765, decrease = 2.7429312467575073e-05, unnormalized = 237.86395263671875\n",
      "iteration 568,  reconstraction error: 0.06118286773562431, decrease = 4.976987838745117e-05, unnormalized = 237.67062377929688\n",
      "iteration 569,  reconstraction error: 0.06107696518301964, decrease = 0.00010590255260467529, unnormalized = 237.2592315673828\n",
      "iteration 570,  reconstraction error: 0.060795899480581284, decrease = 0.0002810657024383545, unnormalized = 236.1674041748047\n",
      "iteration 571,  reconstraction error: 0.05982930213212967, decrease = 0.0009665973484516144, unnormalized = 232.41256713867188\n",
      "iteration 572,  reconstraction error: 0.05659707263112068, decrease = 0.0032322295010089874, unnormalized = 219.85667419433594\n",
      "iteration 573,  reconstraction error: 0.05184788629412651, decrease = 0.004749186336994171, unnormalized = 201.4080047607422\n",
      "iteration 574,  reconstraction error: 0.04870837554335594, decrease = 0.003139510750770569, unnormalized = 189.2122802734375\n",
      "iteration 575,  reconstraction error: 0.0474783256649971, decrease = 0.001230049878358841, unnormalized = 184.4340362548828\n",
      "iteration 576,  reconstraction error: 0.04712602123618126, decrease = 0.0003523044288158417, unnormalized = 183.0654754638672\n",
      "iteration 577,  reconstraction error: 0.04702093079686165, decrease = 0.0001050904393196106, unnormalized = 182.65724182128906\n",
      "iteration 578,  reconstraction error: 0.04698290303349495, decrease = 3.802776336669922e-05, unnormalized = 182.509521484375\n",
      "iteration 579,  reconstraction error: 0.04696665704250336, decrease = 1.6245990991592407e-05, unnormalized = 182.4464111328125\n",
      "iteration 580,  reconstraction error: 0.046958815306425095, decrease = 7.841736078262329e-06, unnormalized = 182.41595458984375\n",
      "iteration 581,  reconstraction error: 0.04695462808012962, decrease = 4.187226295471191e-06, unnormalized = 182.39968872070312\n",
      "iteration 582,  reconstraction error: 0.04695217311382294, decrease = 2.4549663066864014e-06, unnormalized = 182.39015197753906\n",
      "iteration 583,  reconstraction error: 0.04695058614015579, decrease = 1.5869736671447754e-06, unnormalized = 182.3839874267578\n",
      "iteration 584,  reconstraction error: 0.046949464827775955, decrease = 1.1213123798370361e-06, unnormalized = 182.37962341308594\n",
      "iteration 585,  reconstraction error: 0.04694860428571701, decrease = 8.605420589447021e-07, unnormalized = 182.37628173828125\n",
      "iteration 586,  reconstraction error: 0.046947889029979706, decrease = 7.152557373046875e-07, unnormalized = 182.37350463867188\n",
      "iteration 587,  reconstraction error: 0.046947263181209564, decrease = 6.258487701416016e-07, unnormalized = 182.37107849121094\n",
      "iteration 588,  reconstraction error: 0.0469466932117939, decrease = 5.699694156646729e-07, unnormalized = 182.36886596679688\n"
     ]
    },
    {
     "name": "stdout",
     "output_type": "stream",
     "text": [
      "iteration 589,  reconstraction error: 0.04694616422057152, decrease = 5.289912223815918e-07, unnormalized = 182.36680603027344\n",
      "iteration 590,  reconstraction error: 0.04694565013051033, decrease = 5.140900611877441e-07, unnormalized = 182.36480712890625\n",
      "iteration 591,  reconstraction error: 0.04694513976573944, decrease = 5.103647708892822e-07, unnormalized = 182.36282348632812\n",
      "iteration 592,  reconstraction error: 0.04694463685154915, decrease = 5.029141902923584e-07, unnormalized = 182.36087036132812\n",
      "iteration 593,  reconstraction error: 0.04694413021206856, decrease = 5.066394805908203e-07, unnormalized = 182.35890197753906\n",
      "iteration 594,  reconstraction error: 0.04694361239671707, decrease = 5.178153514862061e-07, unnormalized = 182.3568878173828\n",
      "iteration 595,  reconstraction error: 0.04694307968020439, decrease = 5.327165126800537e-07, unnormalized = 182.35482788085938\n",
      "iteration 596,  reconstraction error: 0.04694253206253052, decrease = 5.476176738739014e-07, unnormalized = 182.35269165039062\n",
      "iteration 597,  reconstraction error: 0.046941954642534256, decrease = 5.774199962615967e-07, unnormalized = 182.35044860839844\n",
      "iteration 598,  reconstraction error: 0.046941351145505905, decrease = 6.034970283508301e-07, unnormalized = 182.34811401367188\n",
      "iteration 599,  reconstraction error: 0.04694071784615517, decrease = 6.332993507385254e-07, unnormalized = 182.34564208984375\n",
      "iteration 600,  reconstraction error: 0.04694003984332085, decrease = 6.780028343200684e-07, unnormalized = 182.343017578125\n",
      "iteration 601,  reconstraction error: 0.04693932086229324, decrease = 7.189810276031494e-07, unnormalized = 182.34022521972656\n",
      "iteration 602,  reconstraction error: 0.046938542276620865, decrease = 7.7858567237854e-07, unnormalized = 182.3372039794922\n",
      "iteration 603,  reconstraction error: 0.04693770036101341, decrease = 8.419156074523926e-07, unnormalized = 182.33392333984375\n",
      "iteration 604,  reconstraction error: 0.04693679139018059, decrease = 9.08970832824707e-07, unnormalized = 182.3303985595703\n",
      "iteration 605,  reconstraction error: 0.0469357892870903, decrease = 1.0021030902862549e-06, unnormalized = 182.32650756835938\n",
      "iteration 606,  reconstraction error: 0.04693467542529106, decrease = 1.1138617992401123e-06, unnormalized = 182.32217407226562\n",
      "iteration 607,  reconstraction error: 0.046933434903621674, decrease = 1.2405216693878174e-06, unnormalized = 182.31735229492188\n",
      "iteration 608,  reconstraction error: 0.04693203419446945, decrease = 1.4007091522216797e-06, unnormalized = 182.31192016601562\n",
      "iteration 609,  reconstraction error: 0.04693043604493141, decrease = 1.5981495380401611e-06, unnormalized = 182.3057098388672\n",
      "iteration 610,  reconstraction error: 0.04692858085036278, decrease = 1.8551945686340332e-06, unnormalized = 182.2985076904297\n",
      "iteration 611,  reconstraction error: 0.04692639410495758, decrease = 2.1867454051971436e-06, unnormalized = 182.29000854492188\n",
      "iteration 612,  reconstraction error: 0.04692377522587776, decrease = 2.6188790798187256e-06, unnormalized = 182.2798309326172\n",
      "iteration 613,  reconstraction error: 0.0469205416738987, decrease = 3.2335519790649414e-06, unnormalized = 182.26727294921875\n",
      "iteration 614,  reconstraction error: 0.04691644757986069, decrease = 4.0940940380096436e-06, unnormalized = 182.25137329101562\n",
      "iteration 615,  reconstraction error: 0.046911049634218216, decrease = 5.3979456424713135e-06, unnormalized = 182.2303924560547\n",
      "iteration 616,  reconstraction error: 0.0469035729765892, decrease = 7.4766576290130615e-06, unnormalized = 182.20135498046875\n",
      "iteration 617,  reconstraction error: 0.04689250886440277, decrease = 1.1064112186431885e-05, unnormalized = 182.1583709716797\n",
      "iteration 618,  reconstraction error: 0.04687456041574478, decrease = 1.7948448657989502e-05, unnormalized = 182.08865356445312\n",
      "iteration 619,  reconstraction error: 0.04684140905737877, decrease = 3.315135836601257e-05, unnormalized = 181.95986938476562\n",
      "iteration 620,  reconstraction error: 0.04676692560315132, decrease = 7.448345422744751e-05, unnormalized = 181.6705322265625\n",
      "iteration 621,  reconstraction error: 0.04654064401984215, decrease = 0.00022628158330917358, unnormalized = 180.79151916503906\n",
      "iteration 622,  reconstraction error: 0.04546526446938515, decrease = 0.0010753795504570007, unnormalized = 176.61410522460938\n",
      "iteration 623,  reconstraction error: 0.03865177929401398, decrease = 0.00681348517537117, unnormalized = 150.146484375\n",
      "iteration 624,  reconstraction error: 0.020817061886191368, decrease = 0.01783471740782261, unnormalized = 80.8658447265625\n",
      "iteration 625,  reconstraction error: 0.008631916716694832, decrease = 0.012185145169496536, unnormalized = 33.531494140625\n",
      "iteration 626,  reconstraction error: 0.003947742283344269, decrease = 0.004684174433350563, unnormalized = 15.33537769317627\n",
      "iteration 627,  reconstraction error: 0.0021355149801820517, decrease = 0.0018122273031622171, unnormalized = 8.295609474182129\n",
      "iteration 628,  reconstraction error: 0.0013224281137809157, decrease = 0.0008130868664011359, unnormalized = 5.137096881866455\n",
      "iteration 629,  reconstraction error: 0.0008855672786012292, decrease = 0.00043686083517968655, unnormalized = 3.4400696754455566\n",
      "iteration 630,  reconstraction error: 0.0006204693927429616, decrease = 0.00026509788585826755, unnormalized = 2.4102718830108643\n",
      "iteration 631,  reconstraction error: 0.00044778076699003577, decrease = 0.00017268862575292587, unnormalized = 1.7394466400146484\n",
      "iteration 632,  reconstraction error: 0.0003303475386928767, decrease = 0.00011743322829715908, unnormalized = 1.2832661867141724\n",
      "iteration 633,  reconstraction error: 0.0002481836418155581, decrease = 8.216389687731862e-05, unnormalized = 0.9640927910804749\n",
      "iteration 634,  reconstraction error: 0.00018949505465570837, decrease = 5.86885871598497e-05, unnormalized = 0.7361114025115967\n",
      "iteration 635,  reconstraction error: 0.00014687865041196346, decrease = 4.261640424374491e-05, unnormalized = 0.5705639719963074\n",
      "iteration 636,  reconstraction error: 0.00011550100316526368, decrease = 3.137764724669978e-05, unnormalized = 0.4486745595932007\n",
      "iteration 637,  reconstraction error: 9.210484859067947e-05, decrease = 2.3396154574584216e-05, unnormalized = 0.3577899634838104\n",
      "iteration 638,  reconstraction error: 7.445683877449483e-05, decrease = 1.764800981618464e-05, unnormalized = 0.28923460841178894\n",
      "iteration 639,  reconstraction error: 6.099203892517835e-05, decrease = 1.3464799849316478e-05, unnormalized = 0.23692932724952698\n",
      "iteration 640,  reconstraction error: 5.0600821850821376e-05, decrease = 1.0391217074356973e-05, unnormalized = 0.19656366109848022\n",
      "iteration 641,  reconstraction error: 4.248735785949975e-05, decrease = 8.113463991321623e-06, unnormalized = 0.16504615545272827\n",
      "iteration 642,  reconstraction error: 3.607818143791519e-05, decrease = 6.4091764215845615e-06, unnormalized = 0.1401491016149521\n",
      "iteration 643,  reconstraction error: 3.095329520874657e-05, decrease = 5.124886229168624e-06, unnormalized = 0.12024099379777908\n",
      "iteration 644,  reconstraction error: 2.6806752430275083e-05, decrease = 4.146542778471485e-06, unnormalized = 0.10413336008787155\n",
      "iteration 645,  reconstraction error: 2.3413960661855526e-05, decrease = 3.3927917684195563e-06, unnormalized = 0.09095373749732971\n",
      "iteration 646,  reconstraction error: 2.060258702840656e-05, decrease = 2.811373633448966e-06, unnormalized = 0.08003269135951996\n",
      "iteration 647,  reconstraction error: 1.8247199477627873e-05, decrease = 2.355387550778687e-06, unnormalized = 0.07088296860456467\n",
      "iteration 648,  reconstraction error: 1.625741606403608e-05, decrease = 1.9897834135917947e-06, unnormalized = 0.0631534680724144\n",
      "iteration 649,  reconstraction error: 1.4557550457539037e-05, decrease = 1.6998656064970419e-06, unnormalized = 0.05655017867684364\n",
      "iteration 650,  reconstraction error: 1.3093694178678561e-05, decrease = 1.4638562788604759e-06, unnormalized = 0.05086369067430496\n",
      "iteration 651,  reconstraction error: 1.1824029570561834e-05, decrease = 1.2696646081167273e-06, unnormalized = 0.045931559056043625\n",
      "iteration 652,  reconstraction error: 1.0712786206568126e-05, decrease = 1.111243363993708e-06, unnormalized = 0.041614830493927\n"
     ]
    },
    {
     "name": "stdout",
     "output_type": "stream",
     "text": [
      "iteration 653,  reconstraction error: 9.736553693073802e-06, decrease = 9.76232513494324e-07, unnormalized = 0.03782256320118904\n",
      "iteration 654,  reconstraction error: 8.873859769664705e-06, decrease = 8.626939234090969e-07, unnormalized = 0.03447134420275688\n",
      "iteration 655,  reconstraction error: 8.106047971523367e-06, decrease = 7.678117981413379e-07, unnormalized = 0.03148870915174484\n",
      "iteration 656,  reconstraction error: 7.421967438858701e-06, decrease = 6.84080532664666e-07, unnormalized = 0.02883133292198181\n",
      "iteration 657,  reconstraction error: 6.8083786572969984e-06, decrease = 6.135887815617025e-07, unnormalized = 0.02644778974354267\n",
      "iteration 658,  reconstraction error: 6.25775646767579e-06, decrease = 5.506221896212082e-07, unnormalized = 0.02430884540081024\n",
      "iteration 659,  reconstraction error: 5.762326964031672e-06, decrease = 4.954295036441181e-07, unnormalized = 0.02238430269062519\n",
      "iteration 660,  reconstraction error: 5.312694156600628e-06, decrease = 4.4963280743104406e-07, unnormalized = 0.02063766121864319\n",
      "iteration 661,  reconstraction error: 4.905546120426152e-06, decrease = 4.0714803617447615e-07, unnormalized = 0.019056057557463646\n",
      "iteration 662,  reconstraction error: 4.536351752904011e-06, decrease = 3.6919436752214096e-07, unnormalized = 0.017621885985136032\n",
      "iteration 663,  reconstraction error: 4.199923751002643e-06, decrease = 3.364280019013677e-07, unnormalized = 0.016315000131726265\n",
      "iteration 664,  reconstraction error: 3.892339464073302e-06, decrease = 3.0758428692934103e-07, unnormalized = 0.015120159834623337\n",
      "iteration 665,  reconstraction error: 3.6128287774772616e-06, decrease = 2.795106865960406e-07, unnormalized = 0.014034374617040157\n",
      "iteration 666,  reconstraction error: 3.3552985314599937e-06, decrease = 2.5753024601726793e-07, unnormalized = 0.0130339739844203\n",
      "iteration 667,  reconstraction error: 3.1194178973237285e-06, decrease = 2.3588063413626514e-07, unnormalized = 0.012117673642933369\n",
      "iteration 668,  reconstraction error: 2.9024065497651463e-06, decrease = 2.170113475585822e-07, unnormalized = 0.011274672113358974\n",
      "iteration 669,  reconstraction error: 2.704614871618105e-06, decrease = 1.9779167814704124e-07, unnormalized = 0.01050633192062378\n",
      "iteration 670,  reconstraction error: 2.522020622564014e-06, decrease = 1.8259424905409105e-07, unnormalized = 0.009797027334570885\n",
      "iteration 671,  reconstraction error: 2.3542586404801114e-06, decrease = 1.677619820839027e-07, unnormalized = 0.009145339950919151\n",
      "iteration 672,  reconstraction error: 2.200800054197316e-06, decrease = 1.534585862827953e-07, unnormalized = 0.008549215272068977\n",
      "iteration 673,  reconstraction error: 2.0565439626807347e-06, decrease = 1.4425609151658136e-07, unnormalized = 0.007988839410245419\n",
      "iteration 674,  reconstraction error: 1.9235189938626718e-06, decrease = 1.3302496881806292e-07, unnormalized = 0.007472091354429722\n",
      "iteration 675,  reconstraction error: 1.7994302652368788e-06, decrease = 1.24088728625793e-07, unnormalized = 0.006990056484937668\n",
      "iteration 676,  reconstraction error: 1.6868209513631882e-06, decrease = 1.1260931387369055e-07, unnormalized = 0.006552615202963352\n",
      "iteration 677,  reconstraction error: 1.5821101442270447e-06, decrease = 1.0471080713614356e-07, unnormalized = 0.0061458563432097435\n",
      "iteration 678,  reconstraction error: 1.4848931186861591e-06, decrease = 9.721702554088552e-08, unnormalized = 0.0057682073675096035\n",
      "iteration 679,  reconstraction error: 1.3959820535092149e-06, decrease = 8.891106517694425e-08, unnormalized = 0.005422824062407017\n",
      "iteration 680,  reconstraction error: 1.314112182626559e-06, decrease = 8.186987088265596e-08, unnormalized = 0.005104792769998312\n",
      "iteration 681,  reconstraction error: 1.2388326240397873e-06, decrease = 7.52795585867716e-08, unnormalized = 0.004812362138181925\n",
      "iteration 682,  reconstraction error: 1.1663150871754624e-06, decrease = 7.251753686432494e-08, unnormalized = 0.004530660808086395\n",
      "iteration 683,  reconstraction error: 1.1033769169443985e-06, decrease = 6.293817023106385e-08, unnormalized = 0.004286171868443489\n",
      "iteration 684,  reconstraction error: 1.042666781359003e-06, decrease = 6.071013558539562e-08, unnormalized = 0.0040503377094864845\n",
      "iteration 685,  reconstraction error: 9.877099955701851e-07, decrease = 5.49567857888178e-08, unnormalized = 0.0038368524983525276\n",
      "iteration 686,  reconstraction error: 9.352475558443984e-07, decrease = 5.246243972578668e-08, unnormalized = 0.003633057465776801\n",
      "iteration 687,  reconstraction error: 8.84452845184569e-07, decrease = 5.0794710659829434e-08, unnormalized = 0.003435740480199456\n",
      "iteration 688,  reconstraction error: 8.408724738728779e-07, decrease = 4.3580371311691124e-08, unnormalized = 0.003266448387876153\n",
      "iteration 689,  reconstraction error: 8.016869514904101e-07, decrease = 3.918552238246775e-08, unnormalized = 0.0031142286024987698\n",
      "iteration 690,  reconstraction error: 7.639470709364105e-07, decrease = 3.773988055399968e-08, unnormalized = 0.002967624459415674\n",
      "iteration 691,  reconstraction error: 7.295510613403167e-07, decrease = 3.439600959609379e-08, unnormalized = 0.002834009937942028\n",
      "iteration 692,  reconstraction error: 6.97713915087661e-07, decrease = 3.183714625265566e-08, unnormalized = 0.0027103356551378965\n",
      "iteration 693,  reconstraction error: 6.655639595010143e-07, decrease = 3.2149955586646684e-08, unnormalized = 0.002585445996373892\n",
      "iteration 694,  reconstraction error: 6.416650535356894e-07, decrease = 2.3898905965324957e-08, unnormalized = 0.0024926085025072098\n",
      "iteration 695,  reconstraction error: 6.149468276817061e-07, decrease = 2.6718225853983313e-08, unnormalized = 0.0023888188879936934\n",
      "iteration 696,  reconstraction error: 5.937047831139353e-07, decrease = 2.124204456777079e-08, unnormalized = 0.0023063023108989\n",
      "iteration 697,  reconstraction error: 5.730993848374055e-07, decrease = 2.060539827652974e-08, unnormalized = 0.0022262586280703545\n",
      "iteration 698,  reconstraction error: 5.500501742972119e-07, decrease = 2.30492105401936e-08, unnormalized = 0.0021367217414081097\n",
      "iteration 699,  reconstraction error: 5.355869348022679e-07, decrease = 1.4463239494943991e-08, unnormalized = 0.0020805380772799253\n",
      "iteration 700,  reconstraction error: 5.131982447892369e-07, decrease = 2.238869001303101e-08, unnormalized = 0.001993566984310746\n",
      "iteration 701,  reconstraction error: 5.052310143582872e-07, decrease = 7.967230430949712e-09, unnormalized = 0.0019626175053417683\n",
      "iteration 702,  reconstraction error: 4.971237785866833e-07, decrease = 8.107235771603882e-09, unnormalized = 0.001931124133989215\n",
      "iteration 703,  reconstraction error: 4.791214109900466e-07, decrease = 1.800236759663676e-08, unnormalized = 0.0018611922860145569\n",
      "iteration 704,  reconstraction error: 4.646609852443362e-07, decrease = 1.4460425745710381e-08, unnormalized = 0.0018050194485113025\n",
      "iteration 705,  reconstraction error: 4.5522375557993655e-07, decrease = 9.437229664399638e-09, unnormalized = 0.0017683596815913916\n",
      "iteration 706,  reconstraction error: 4.477917343592708e-07, decrease = 7.432021220665774e-09, unnormalized = 0.0017394892638549209\n",
      "iteration 707,  reconstraction error: 4.38201823271811e-07, decrease = 9.589911087459768e-09, unnormalized = 0.0017022363608703017\n",
      "iteration 708,  reconstraction error: 4.2994767568416137e-07, decrease = 8.25414758764964e-09, unnormalized = 0.0016701723216101527\n",
      "iteration 709,  reconstraction error: 4.234668153912935e-07, decrease = 6.480860292867874e-09, unnormalized = 0.001644996809773147\n",
      "iteration 710,  reconstraction error: 4.179732968623284e-07, decrease = 5.493518528965069e-09, unnormalized = 0.0016236567171290517\n",
      "iteration 711,  reconstraction error: 4.10440463838313e-07, decrease = 7.532833024015417e-09, unnormalized = 0.0015943946782499552\n",
      "iteration 712,  reconstraction error: 4.081904023678362e-07, decrease = 2.250061470476794e-09, unnormalized = 0.001585654099471867\n",
      "iteration 713,  reconstraction error: 4.090329071004817e-07, decrease = -8.42504732645466e-10, unnormalized = 0.0015889268834143877\n",
      "PARAFAC has stopped after iteration 713\n",
      "reconstruction error=0.00828409194946289\n",
      "iteration 1,  reconstraction error: 0.008281749673187733, decrease = 2.3422762751579285e-06, unnormalized = 32.17123794555664\n",
      "iteration 2,  reconstraction error: 0.008281715214252472, decrease = 3.4458935260772705e-08, unnormalized = 32.171104431152344\n"
     ]
    },
    {
     "name": "stdout",
     "output_type": "stream",
     "text": [
      "iteration 3,  reconstraction error: 0.008281714282929897, decrease = 9.313225746154785e-10, unnormalized = 32.17110061645508\n",
      "iteration 4,  reconstraction error: 0.008281714282929897, decrease = 0.0, unnormalized = 32.17110061645508\n",
      "PARAFAC has stopped after iteration 4\n",
      "reconstruction error=0.012153036892414093\n",
      "iteration 1,  reconstraction error: 0.012153036892414093, decrease = 0.0, unnormalized = 47.209617614746094\n",
      "PARAFAC has stopped after iteration 1\n",
      "tensor(51.8905, device='cuda:0')\n",
      "tensor(51.8905, device='cuda:0')\n"
     ]
    }
   ],
   "source": [
    "t = t_residual.to(device)\n",
    "r = rank - r_float\n",
    "normalize_factors = True\n",
    "qout, qerrors, scales, zero_points = quantized_parafac(\n",
    "                                    t, r,n_iter_max=n_iter_max,\\\n",
    "                                    init=init, tol= tol, svd = 'numpy_svd',\\\n",
    "                                    normalize_factors = normalize_factors,\\\n",
    "                                    qmodes = [0, 1, 2],\n",
    "                                    qscheme = qscheme, dtype = dtype, dim = dim,\n",
    "                                    return_scale_zeropoint=True,\\\n",
    "                                    verbose = True,\\\n",
    "                                    random_state=random_state,\n",
    "                                    stop_criterion = qstop_criterion)\n",
    "\n",
    "t_residual_approx_qals = kruskal_to_tensor(qout)\n",
    "print(tl.norm(t_residual - t_residual_approx_qals))\n",
    "print(tl.norm(t - t_approx - t_residual_approx_qals))\n",
    "\n",
    "\n",
    "\n"
   ]
  },
  {
   "cell_type": "code",
   "execution_count": null,
   "metadata": {},
   "outputs": [],
   "source": [
    "qerrors"
   ]
  },
  {
   "cell_type": "code",
   "execution_count": 35,
   "metadata": {},
   "outputs": [
    {
     "name": "stdout",
     "output_type": "stream",
     "text": [
      "||float_qqfactors||: 244.42758178710938\n"
     ]
    }
   ],
   "source": [
    "qqfactors = [quantize_qint(out.factors[i].cpu(), dtype, qscheme, dim = dim).to(device)\\\n",
    "                for i in range(len(out.factors))]\n",
    "\n",
    "qqkrt = KruskalTensor((out.weights, qqfactors))\n",
    "\n",
    "# corresponding tensor in full format\n",
    "qqt = kruskal_to_tensor(qqkrt)\n",
    "\n",
    "print('||float_qqfactors||: {}'.format(tl.norm(t - qqt)))"
   ]
  },
  {
   "cell_type": "code",
   "execution_count": 36,
   "metadata": {},
   "outputs": [
    {
     "data": {
      "text/plain": [
       "((tensor(0.0027), tensor(0.0027), tensor(0.0067)),\n",
       " (tensor(-12, dtype=torch.int32),\n",
       "  tensor(-17, dtype=torch.int32),\n",
       "  tensor(-4, dtype=torch.int32)))"
      ]
     },
     "execution_count": 36,
     "metadata": {},
     "output_type": "execute_result"
    }
   ],
   "source": [
    "scales, zero_points"
   ]
  },
  {
   "cell_type": "code",
   "execution_count": 26,
   "metadata": {},
   "outputs": [
    {
     "data": {
      "text/plain": [
       "tensor([[ 0.0160, -0.0748,  0.1870,  ..., -0.0134,  0.0240, -0.0214],\n",
       "        [-0.0962,  0.1309, -0.1309,  ...,  0.0080,  0.1549,  0.0935],\n",
       "        [-0.0454,  0.1015,  0.2004,  ..., -0.2591, -0.0080, -0.0187],\n",
       "        ...,\n",
       "        [ 0.0614,  0.0347,  0.0107,  ..., -0.1496,  0.0695,  0.0427],\n",
       "        [ 0.0561, -0.0588, -0.0374,  ...,  0.0027, -0.1229,  0.0427],\n",
       "        [-0.0695,  0.1229,  0.1309,  ...,  0.0588, -0.0721,  0.0347]],\n",
       "       device='cuda:0')"
      ]
     },
     "execution_count": 26,
     "metadata": {},
     "output_type": "execute_result"
    }
   ],
   "source": [
    "qout.factors[0]"
   ]
  },
  {
   "cell_type": "code",
   "execution_count": 27,
   "metadata": {},
   "outputs": [
    {
     "data": {
      "text/plain": [
       "tensor([[  6.0000, -28.0000,  70.0000,  ...,  -5.0000,   9.0000,  -8.0000],\n",
       "        [-36.0000,  49.0000, -49.0000,  ...,   3.0000,  58.0000,  35.0000],\n",
       "        [-17.0000,  38.0000,  75.0000,  ..., -97.0000,  -3.0000,  -7.0000],\n",
       "        ...,\n",
       "        [ 23.0000,  13.0000,   4.0000,  ..., -56.0000,  26.0000,  16.0000],\n",
       "        [ 21.0000, -22.0000, -14.0000,  ...,   1.0000, -46.0000,  16.0000],\n",
       "        [-26.0000,  46.0000,  49.0000,  ...,  22.0000, -27.0000,  13.0000]],\n",
       "       device='cuda:0')"
      ]
     },
     "execution_count": 27,
     "metadata": {},
     "output_type": "execute_result"
    }
   ],
   "source": [
    "qout.factors[0]/scales[0]"
   ]
  },
  {
   "cell_type": "code",
   "execution_count": 28,
   "metadata": {},
   "outputs": [
    {
     "data": {
      "text/plain": [
       "tensor([[  0.0000, -14.0000,   4.0000,  ...,  20.0000, -20.0000,  33.0000],\n",
       "        [-18.0000,   1.0000, -13.0000,  ...,  36.0000,   7.0000, -16.0000],\n",
       "        [ 40.0000, -64.0000,  21.0000,  ..., -19.0000,  -7.0000, -14.0000],\n",
       "        ...,\n",
       "        [ 30.0000,  21.0000,   1.0000,  ..., -12.0000,  -4.0000,  23.0000],\n",
       "        [ 58.0000,  38.0000,  17.0000,  ...,  -3.0000, -35.0000,  53.0000],\n",
       "        [-39.0000, -19.0000,  54.0000,  ..., -14.0000, -11.0000, -33.0000]],\n",
       "       device='cuda:0')"
      ]
     },
     "execution_count": 28,
     "metadata": {},
     "output_type": "execute_result"
    }
   ],
   "source": [
    "qout.factors[1]/scales[1]"
   ]
  },
  {
   "cell_type": "markdown",
   "metadata": {},
   "source": [
    "##### Try to quantize 2 of 3 factors"
   ]
  },
  {
   "cell_type": "code",
   "execution_count": 30,
   "metadata": {},
   "outputs": [],
   "source": [
    "qt, _ = quantized_parafac(\n",
    "                        t.to(device), rank, n_iter_max=n_iter_max,\\\n",
    "                        init=init, tol= tol, svd = 'numpy_svd',\\\n",
    "                        normalize_factors = normalize_factors,\\\n",
    "                        qmodes = [0, 1],\n",
    "                        qscheme = qscheme, dtype = dtype, dim = dim,\n",
    "                        return_scale_zeropoint=False, random_state = random_state,\\\n",
    "                        stop_criterion = qstop_criterion)"
   ]
  },
  {
   "cell_type": "code",
   "execution_count": 31,
   "metadata": {},
   "outputs": [
    {
     "data": {
      "text/plain": [
       "tensor(47.6132, device='cuda:0')"
      ]
     },
     "execution_count": 31,
     "metadata": {},
     "output_type": "execute_result"
    }
   ],
   "source": [
    "tl.norm(t - kruskal_to_tensor(qt))"
   ]
  },
  {
   "cell_type": "code",
   "execution_count": null,
   "metadata": {},
   "outputs": [],
   "source": []
  }
 ],
 "metadata": {
  "kernelspec": {
   "display_name": "Python 3",
   "language": "python",
   "name": "python3"
  },
  "language_info": {
   "codemirror_mode": {
    "name": "ipython",
    "version": 3
   },
   "file_extension": ".py",
   "mimetype": "text/x-python",
   "name": "python",
   "nbconvert_exporter": "python",
   "pygments_lexer": "ipython3",
   "version": "3.6.8"
  }
 },
 "nbformat": 4,
 "nbformat_minor": 2
}
