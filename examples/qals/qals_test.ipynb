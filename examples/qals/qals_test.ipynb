{
 "cells": [
  {
   "cell_type": "code",
   "execution_count": 1,
   "metadata": {},
   "outputs": [],
   "source": [
    "import os\n",
    "os.environ[\"CUDA_DEVICE_ORDER\"]=\"PCI_BUS_ID\"  \n",
    "os.environ[\"CUDA_VISIBLE_DEVICES\"]=\"2\""
   ]
  },
  {
   "cell_type": "code",
   "execution_count": 2,
   "metadata": {
    "scrolled": true
   },
   "outputs": [],
   "source": [
    "import tensorly as tl\n",
    "from tensorly.decomposition import parafac, quantized_parafac\n",
    "from tensorly.kruskal_tensor import kruskal_to_tensor, KruskalTensor\n",
    "from tensorly.base import unfold\n",
    "from tensorly.quantization import quantize_qint\n",
    "\n",
    "import torch\n",
    "tl.set_backend('pytorch')\n",
    "\n",
    "import numpy as np\n",
    "from collections import defaultdict\n",
    "import os\n",
    "import logging\n",
    "import sys\n",
    "\n",
    "formatter = logging.Formatter('%(asctime)s %(levelname)s %(message)s')\n",
    "\n",
    "\n",
    "def setup_logger(name, log_file, level=logging.INFO):\n",
    "    \"\"\"To setup as many loggers as you want\"\"\"\n",
    "\n",
    "    handler = logging.FileHandler(log_file)        \n",
    "    handler.setFormatter(formatter)\n",
    "\n",
    "    logger = logging.getLogger(name)\n",
    "    logger.setLevel(level)\n",
    "    logger.addHandler(handler)\n",
    "\n",
    "    return logger"
   ]
  },
  {
   "cell_type": "code",
   "execution_count": 3,
   "metadata": {},
   "outputs": [
    {
     "data": {
      "text/plain": [
       "True"
      ]
     },
     "execution_count": 3,
     "metadata": {},
     "output_type": "execute_result"
    }
   ],
   "source": [
    "torch.cuda.is_available()"
   ]
  },
  {
   "cell_type": "markdown",
   "metadata": {},
   "source": [
    "# Example 3. Quantized ALS\n",
    "Compare standard ALS algorithm for finding  CP decomposition with its quantized version, when at the end of each ALS step approximated factor is quantized."
   ]
  },
  {
   "cell_type": "code",
   "execution_count": 4,
   "metadata": {},
   "outputs": [],
   "source": [
    "def generate_tensor(shape, rank):\n",
    "   ## Generate tensor\n",
    "    factors = [torch.randn((i, rank)) for i in shape] \n",
    "    weights = torch.ones(rank)\n",
    "\n",
    "    # tensor in Kruscal format\n",
    "    krt = KruskalTensor((weights, factors)) \n",
    "    \n",
    "    # corresponding tensor in full format\n",
    "    t = kruskal_to_tensor(krt)\n",
    "    \n",
    "    return t"
   ]
  },
  {
   "cell_type": "code",
   "execution_count": 10,
   "metadata": {},
   "outputs": [],
   "source": [
    "def compare_als(shape, inits, random_states,\\\n",
    "                params_als_shared, params_als, params_qals, params_qint,\\\n",
    "                nruns = 2, loggsfile = None, delta_rank = 1, device = 'cuda'):\n",
    "    \n",
    "    if loggsfile:\n",
    "        logger = setup_logger('logger_{}'.format(shape), '{}.log'.format(loggsfile))\n",
    "\n",
    "    \n",
    "    tmp = shape[0]\n",
    "#     ranks = set([int(np.sqrt(tmp)), tmp//2, tmp//3, tmp + tmp//3]) \n",
    "    ranks = sorted(set([int(np.sqrt(tmp)), tmp//2, tmp,  tmp + tmp//2, 2*tmp]))\n",
    "\n",
    "    \n",
    "    result = {}\n",
    "    \n",
    "    for rank in ranks:\n",
    "        rec_errors_all = {run : {'tensor_norm':None,\\\n",
    "                                  'als_factors':[],\\\n",
    "                                  'als_factors_quantized':[],\\\n",
    "                                  'qals_factors':[]} for run in range(nruns)}\n",
    "\n",
    "        for run in range(nruns):\n",
    "            t = generate_tensor(shape, rank + delta_rank).to(device)\n",
    "            tnorm = tl.norm(t)\n",
    "            rec_errors_all[run]['tensor_norm'] = tnorm\n",
    "\n",
    "            logger.info('\\n-----------------------------------\\n')\n",
    "            logger.info(\"Shape = {}, rank_init = {}, rank_approx = {}, run = {}, ||tensor|| = {}\".format(shape, rank + delta_rank, rank, run, tnorm))\n",
    "            \n",
    "            for init, random_state in zip(inits, random_states):\n",
    "                \n",
    "                logger.info('\\n===================================\\nrandom state {}'.format(random_state))\n",
    "                try:\n",
    "                    ## ALS with float factors\n",
    "                    out = parafac(t, rank,\\\n",
    "                                  init=init,\\\n",
    "                                  random_state=random_state,\\\n",
    "                                  **params_als_shared,\\\n",
    "                                  **params_als)\n",
    "\n",
    "                    t_als = kruskal_to_tensor(out) \n",
    "\n",
    "                    rec_error_als = tl.norm(t - t_als)\n",
    "                    rec_errors_all[run]['als_factors'].append(rec_error_als)\n",
    "\n",
    "                    logger.info('||tensor - als_factors||: {}'.format(rec_error_als))\n",
    "\n",
    "\n",
    "                    ## Post ALS factors quantization\n",
    "                    qfactors_post = [quantize_qint(out.factors[i].cpu(), **params_qint).to(device)\\\n",
    "                                     for i in range(len(out.factors))]\n",
    "                    qt_post = kruskal_to_tensor(KruskalTensor((out.weights, qfactors_post)))\n",
    "\n",
    "                    rec_error_qpost = tl.norm(t - qt_post)\n",
    "                    rec_errors_all[run]['als_factors_quantized'].append(rec_error_qpost)\n",
    "\n",
    "                    logger.info('||tensor - als_factors_quantized||: {}'.format(rec_error_qpost))\n",
    "\n",
    "\n",
    "                    ## Quantized ALS\n",
    "                    qout, qerrors, scales, zero_points = quantized_parafac(t, rank,\\\n",
    "                                                                         init=init,\\\n",
    "                                                                         random_state=random_state,\\\n",
    "                                                                         **params_als_shared,\\\n",
    "                                                                         **params_qals,\\\n",
    "                                                                         **params_qint)\n",
    "\n",
    "                    t_approx_qals = kruskal_to_tensor(KruskalTensor(qout))\n",
    "\n",
    "                    rec_error_qals = tl.norm(t - t_approx_qals)\n",
    "                    rec_errors_all[run]['qals_factors'].append(rec_error_qals)\n",
    "\n",
    "                    logger.info('||tensor - qals_factors||: {}'.format(rec_error_qals))\n",
    "                except:\n",
    "                    logger.info('Bad random state')\n",
    "\n",
    "\n",
    "        result[rank] = rec_errors_all\n",
    "    return result"
   ]
  },
  {
   "cell_type": "markdown",
   "metadata": {},
   "source": [
    "### Run comparison "
   ]
  },
  {
   "cell_type": "code",
   "execution_count": 11,
   "metadata": {},
   "outputs": [],
   "source": [
    "N_ITER_MAX = 50000\n",
    "RANDOM_INIT_STARTS = 10\n",
    "NRUNS = 3\n",
    "SHAPES = [(16, 16, 9), (32, 32, 9), (64, 64, 9),\\\n",
    "          (128, 128, 9), (256, 256, 9), (512, 512, 9)]"
   ]
  },
  {
   "cell_type": "code",
   "execution_count": 13,
   "metadata": {},
   "outputs": [],
   "source": [
    "params_als_shared = {'n_iter_max' : N_ITER_MAX,\\\n",
    "                    'stop_criterion' : 'rec_error_decrease',\\\n",
    "                    'tol' : 1e-18,\\\n",
    "                    'normalize_factors' : True,\\\n",
    "                    'svd' : 'numpy_svd',\\\n",
    "                    'verbose' : 0}\n",
    "\n",
    "params_als = {'orthogonalise' : False,\\\n",
    "              'non_negative' : False,\\\n",
    "              'mask' : None,\\\n",
    "              'return_errors' : False}\n",
    "\n",
    "params_qint = {'dtype' : torch.qint8,\\\n",
    "               'qscheme' : torch.per_channel_affine,\\\n",
    "               'dim' : 1}\n",
    "\n",
    "params_qals = {'qmodes' : [0, 1, 2],\\\n",
    "               'return_scale_zeropoint' : True,\\\n",
    "              }"
   ]
  },
  {
   "cell_type": "code",
   "execution_count": null,
   "metadata": {},
   "outputs": [],
   "source": [
    "delta_rank = 0\n",
    "save_dir = '/workspace/raid/data/jgusak/tensorly/qals_test_results_drank{}'.format(delta_rank)\n",
    "loggs_dir = save_dir + '/loggs'\n",
    "\n",
    "if not os.path.exists(save_dir):\n",
    "    os.makedirs(save_dir)\n",
    "if not os.path.exists(loggs_dir):\n",
    "    os.makedirs(loggs_dir)\n",
    "\n",
    "random_init_starts = RANDOM_INIT_STARTS\n",
    "inits = ['svd'] + ['random'] * random_init_starts\n",
    "random_states = [None] + [int(torch.randint(high = 11999, size = (1,))) for _ in range(random_init_starts)]\n",
    "\n",
    "nruns = NRUNS\n",
    "shapes = SHAPES\n",
    "\n",
    "for shape in shapes:\n",
    "    loggsfile = '{}/{}'.format(loggs_dir, '_'.join(map(str, shape)))\n",
    "    \n",
    "    result = compare_als(shape, inits,\\\n",
    "                random_states,params_als_shared,\\\n",
    "                params_als, params_qals, params_qint,\\\n",
    "                nruns = nruns, loggsfile = loggsfile,\\\n",
    "                delta_rank = delta_rank)\n",
    "    np.save('{}/{}.npy'.format(save_dir, shape), result)\n"
   ]
  },
  {
   "cell_type": "markdown",
   "metadata": {},
   "source": [
    "### Load saved results"
   ]
  },
  {
   "cell_type": "raw",
   "metadata": {},
   "source": [
    "## To load result\n",
    "result = np.load('{}/{}.npy'.format(save_dir, (16, 16, 9)), allow_pickle = True).item()"
   ]
  },
  {
   "cell_type": "raw",
   "metadata": {},
   "source": [
    "for rank, res in result.items():\n",
    "    print('\\nrank = {}'.format(rank))\n",
    "    \n",
    "    for run, rec_errors in res.items():\n",
    "        print(' run = {}, min of {} random starts'.format(run, random_init_starts+1))\n",
    "        print(' als_error: {}, als_quantized_error: {}, qals_error: {}'.format(\n",
    "            min(rec_errors['als_factors']),\\\n",
    "            min(rec_errors['als_factors_quantized']),\\\n",
    "            min(rec_errors['qals_factors'])))\n"
   ]
  },
  {
   "cell_type": "code",
   "execution_count": null,
   "metadata": {},
   "outputs": [],
   "source": []
  }
 ],
 "metadata": {
  "kernelspec": {
   "display_name": "Python 3",
   "language": "python",
   "name": "python3"
  },
  "language_info": {
   "codemirror_mode": {
    "name": "ipython",
    "version": 3
   },
   "file_extension": ".py",
   "mimetype": "text/x-python",
   "name": "python",
   "nbconvert_exporter": "python",
   "pygments_lexer": "ipython3",
   "version": "3.6.8"
  }
 },
 "nbformat": 4,
 "nbformat_minor": 2
}
